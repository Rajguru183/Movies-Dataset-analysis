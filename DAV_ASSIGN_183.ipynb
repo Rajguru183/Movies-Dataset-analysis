{
  "nbformat": 4,
  "nbformat_minor": 0,
  "metadata": {
    "colab": {
      "provenance": [],
      "include_colab_link": true
    },
    "kernelspec": {
      "name": "python3",
      "display_name": "Python 3"
    },
    "language_info": {
      "name": "python"
    }
  },
  "cells": [
    {
      "cell_type": "markdown",
      "metadata": {
        "id": "view-in-github",
        "colab_type": "text"
      },
      "source": [
        "<a href=\"https://colab.research.google.com/github/Rajguru183/Movies-Dataset-analysis/blob/main/DAV_ASSIGN_183.ipynb\" target=\"_parent\"><img src=\"https://colab.research.google.com/assets/colab-badge.svg\" alt=\"Open In Colab\"/></a>"
      ]
    },
    {
      "cell_type": "code",
      "execution_count": null,
      "metadata": {
        "id": "bGebQ8Z6v6nS"
      },
      "outputs": [],
      "source": [
        "import pandas as pd\n",
        "import numpy as np\n",
        "import matplotlib.pyplot as plt\n"
      ]
    },
    {
      "cell_type": "code",
      "source": [
        "from google.colab import files\n",
        "uploaded = files.upload()\n"
      ],
      "metadata": {
        "colab": {
          "base_uri": "https://localhost:8080/",
          "height": 73
        },
        "id": "9E60CarqyLlB",
        "outputId": "2b163832-6700-4f8c-b9f7-240f83a743a2"
      },
      "execution_count": null,
      "outputs": [
        {
          "output_type": "display_data",
          "data": {
            "text/plain": [
              "<IPython.core.display.HTML object>"
            ],
            "text/html": [
              "\n",
              "     <input type=\"file\" id=\"files-5e695ffb-0851-4972-8d05-ec431060a069\" name=\"files[]\" multiple disabled\n",
              "        style=\"border:none\" />\n",
              "     <output id=\"result-5e695ffb-0851-4972-8d05-ec431060a069\">\n",
              "      Upload widget is only available when the cell has been executed in the\n",
              "      current browser session. Please rerun this cell to enable.\n",
              "      </output>\n",
              "      <script>// Copyright 2017 Google LLC\n",
              "//\n",
              "// Licensed under the Apache License, Version 2.0 (the \"License\");\n",
              "// you may not use this file except in compliance with the License.\n",
              "// You may obtain a copy of the License at\n",
              "//\n",
              "//      http://www.apache.org/licenses/LICENSE-2.0\n",
              "//\n",
              "// Unless required by applicable law or agreed to in writing, software\n",
              "// distributed under the License is distributed on an \"AS IS\" BASIS,\n",
              "// WITHOUT WARRANTIES OR CONDITIONS OF ANY KIND, either express or implied.\n",
              "// See the License for the specific language governing permissions and\n",
              "// limitations under the License.\n",
              "\n",
              "/**\n",
              " * @fileoverview Helpers for google.colab Python module.\n",
              " */\n",
              "(function(scope) {\n",
              "function span(text, styleAttributes = {}) {\n",
              "  const element = document.createElement('span');\n",
              "  element.textContent = text;\n",
              "  for (const key of Object.keys(styleAttributes)) {\n",
              "    element.style[key] = styleAttributes[key];\n",
              "  }\n",
              "  return element;\n",
              "}\n",
              "\n",
              "// Max number of bytes which will be uploaded at a time.\n",
              "const MAX_PAYLOAD_SIZE = 100 * 1024;\n",
              "\n",
              "function _uploadFiles(inputId, outputId) {\n",
              "  const steps = uploadFilesStep(inputId, outputId);\n",
              "  const outputElement = document.getElementById(outputId);\n",
              "  // Cache steps on the outputElement to make it available for the next call\n",
              "  // to uploadFilesContinue from Python.\n",
              "  outputElement.steps = steps;\n",
              "\n",
              "  return _uploadFilesContinue(outputId);\n",
              "}\n",
              "\n",
              "// This is roughly an async generator (not supported in the browser yet),\n",
              "// where there are multiple asynchronous steps and the Python side is going\n",
              "// to poll for completion of each step.\n",
              "// This uses a Promise to block the python side on completion of each step,\n",
              "// then passes the result of the previous step as the input to the next step.\n",
              "function _uploadFilesContinue(outputId) {\n",
              "  const outputElement = document.getElementById(outputId);\n",
              "  const steps = outputElement.steps;\n",
              "\n",
              "  const next = steps.next(outputElement.lastPromiseValue);\n",
              "  return Promise.resolve(next.value.promise).then((value) => {\n",
              "    // Cache the last promise value to make it available to the next\n",
              "    // step of the generator.\n",
              "    outputElement.lastPromiseValue = value;\n",
              "    return next.value.response;\n",
              "  });\n",
              "}\n",
              "\n",
              "/**\n",
              " * Generator function which is called between each async step of the upload\n",
              " * process.\n",
              " * @param {string} inputId Element ID of the input file picker element.\n",
              " * @param {string} outputId Element ID of the output display.\n",
              " * @return {!Iterable<!Object>} Iterable of next steps.\n",
              " */\n",
              "function* uploadFilesStep(inputId, outputId) {\n",
              "  const inputElement = document.getElementById(inputId);\n",
              "  inputElement.disabled = false;\n",
              "\n",
              "  const outputElement = document.getElementById(outputId);\n",
              "  outputElement.innerHTML = '';\n",
              "\n",
              "  const pickedPromise = new Promise((resolve) => {\n",
              "    inputElement.addEventListener('change', (e) => {\n",
              "      resolve(e.target.files);\n",
              "    });\n",
              "  });\n",
              "\n",
              "  const cancel = document.createElement('button');\n",
              "  inputElement.parentElement.appendChild(cancel);\n",
              "  cancel.textContent = 'Cancel upload';\n",
              "  const cancelPromise = new Promise((resolve) => {\n",
              "    cancel.onclick = () => {\n",
              "      resolve(null);\n",
              "    };\n",
              "  });\n",
              "\n",
              "  // Wait for the user to pick the files.\n",
              "  const files = yield {\n",
              "    promise: Promise.race([pickedPromise, cancelPromise]),\n",
              "    response: {\n",
              "      action: 'starting',\n",
              "    }\n",
              "  };\n",
              "\n",
              "  cancel.remove();\n",
              "\n",
              "  // Disable the input element since further picks are not allowed.\n",
              "  inputElement.disabled = true;\n",
              "\n",
              "  if (!files) {\n",
              "    return {\n",
              "      response: {\n",
              "        action: 'complete',\n",
              "      }\n",
              "    };\n",
              "  }\n",
              "\n",
              "  for (const file of files) {\n",
              "    const li = document.createElement('li');\n",
              "    li.append(span(file.name, {fontWeight: 'bold'}));\n",
              "    li.append(span(\n",
              "        `(${file.type || 'n/a'}) - ${file.size} bytes, ` +\n",
              "        `last modified: ${\n",
              "            file.lastModifiedDate ? file.lastModifiedDate.toLocaleDateString() :\n",
              "                                    'n/a'} - `));\n",
              "    const percent = span('0% done');\n",
              "    li.appendChild(percent);\n",
              "\n",
              "    outputElement.appendChild(li);\n",
              "\n",
              "    const fileDataPromise = new Promise((resolve) => {\n",
              "      const reader = new FileReader();\n",
              "      reader.onload = (e) => {\n",
              "        resolve(e.target.result);\n",
              "      };\n",
              "      reader.readAsArrayBuffer(file);\n",
              "    });\n",
              "    // Wait for the data to be ready.\n",
              "    let fileData = yield {\n",
              "      promise: fileDataPromise,\n",
              "      response: {\n",
              "        action: 'continue',\n",
              "      }\n",
              "    };\n",
              "\n",
              "    // Use a chunked sending to avoid message size limits. See b/62115660.\n",
              "    let position = 0;\n",
              "    do {\n",
              "      const length = Math.min(fileData.byteLength - position, MAX_PAYLOAD_SIZE);\n",
              "      const chunk = new Uint8Array(fileData, position, length);\n",
              "      position += length;\n",
              "\n",
              "      const base64 = btoa(String.fromCharCode.apply(null, chunk));\n",
              "      yield {\n",
              "        response: {\n",
              "          action: 'append',\n",
              "          file: file.name,\n",
              "          data: base64,\n",
              "        },\n",
              "      };\n",
              "\n",
              "      let percentDone = fileData.byteLength === 0 ?\n",
              "          100 :\n",
              "          Math.round((position / fileData.byteLength) * 100);\n",
              "      percent.textContent = `${percentDone}% done`;\n",
              "\n",
              "    } while (position < fileData.byteLength);\n",
              "  }\n",
              "\n",
              "  // All done.\n",
              "  yield {\n",
              "    response: {\n",
              "      action: 'complete',\n",
              "    }\n",
              "  };\n",
              "}\n",
              "\n",
              "scope.google = scope.google || {};\n",
              "scope.google.colab = scope.google.colab || {};\n",
              "scope.google.colab._files = {\n",
              "  _uploadFiles,\n",
              "  _uploadFilesContinue,\n",
              "};\n",
              "})(self);\n",
              "</script> "
            ]
          },
          "metadata": {}
        },
        {
          "output_type": "stream",
          "name": "stdout",
          "text": [
            "Saving movies.csv to movies.csv\n"
          ]
        }
      ]
    },
    {
      "cell_type": "code",
      "source": [
        "import pandas as pd\n",
        "\n",
        "df = pd.read_csv(\"movies.csv\")\n",
        "df.head()\n"
      ],
      "metadata": {
        "colab": {
          "base_uri": "https://localhost:8080/",
          "height": 504
        },
        "id": "DOA_UL1-zeg4",
        "outputId": "44a3eedf-ba50-4e6c-cbba-dd8751e9fc9a"
      },
      "execution_count": null,
      "outputs": [
        {
          "output_type": "execute_result",
          "data": {
            "text/plain": [
              "                                             name rating      genre  year  \\\n",
              "0                                     The Shining      R      Drama  1980   \n",
              "1                                 The Blue Lagoon      R  Adventure  1980   \n",
              "2  Star Wars: Episode V - The Empire Strikes Back     PG     Action  1980   \n",
              "3                                       Airplane!     PG     Comedy  1980   \n",
              "4                                      Caddyshack      R     Comedy  1980   \n",
              "\n",
              "                        released  score      votes         director  \\\n",
              "0  June 13, 1980 (United States)    8.4   927000.0  Stanley Kubrick   \n",
              "1   July 2, 1980 (United States)    5.8    65000.0   Randal Kleiser   \n",
              "2  June 20, 1980 (United States)    8.7  1200000.0   Irvin Kershner   \n",
              "3   July 2, 1980 (United States)    7.7   221000.0     Jim Abrahams   \n",
              "4  July 25, 1980 (United States)    7.3   108000.0     Harold Ramis   \n",
              "\n",
              "                    writer            star         country      budget  \\\n",
              "0             Stephen King  Jack Nicholson  United Kingdom  19000000.0   \n",
              "1  Henry De Vere Stacpoole  Brooke Shields   United States   4500000.0   \n",
              "2           Leigh Brackett     Mark Hamill   United States  18000000.0   \n",
              "3             Jim Abrahams     Robert Hays   United States   3500000.0   \n",
              "4       Brian Doyle-Murray     Chevy Chase   United States   6000000.0   \n",
              "\n",
              "         gross             company  runtime  \n",
              "0   46998772.0        Warner Bros.    146.0  \n",
              "1   58853106.0   Columbia Pictures    104.0  \n",
              "2  538375067.0           Lucasfilm    124.0  \n",
              "3   83453539.0  Paramount Pictures     88.0  \n",
              "4   39846344.0      Orion Pictures     98.0  "
            ],
            "text/html": [
              "\n",
              "  <div id=\"df-601e66e1-6be9-4c35-a0b2-c7d6188ce725\" class=\"colab-df-container\">\n",
              "    <div>\n",
              "<style scoped>\n",
              "    .dataframe tbody tr th:only-of-type {\n",
              "        vertical-align: middle;\n",
              "    }\n",
              "\n",
              "    .dataframe tbody tr th {\n",
              "        vertical-align: top;\n",
              "    }\n",
              "\n",
              "    .dataframe thead th {\n",
              "        text-align: right;\n",
              "    }\n",
              "</style>\n",
              "<table border=\"1\" class=\"dataframe\">\n",
              "  <thead>\n",
              "    <tr style=\"text-align: right;\">\n",
              "      <th></th>\n",
              "      <th>name</th>\n",
              "      <th>rating</th>\n",
              "      <th>genre</th>\n",
              "      <th>year</th>\n",
              "      <th>released</th>\n",
              "      <th>score</th>\n",
              "      <th>votes</th>\n",
              "      <th>director</th>\n",
              "      <th>writer</th>\n",
              "      <th>star</th>\n",
              "      <th>country</th>\n",
              "      <th>budget</th>\n",
              "      <th>gross</th>\n",
              "      <th>company</th>\n",
              "      <th>runtime</th>\n",
              "    </tr>\n",
              "  </thead>\n",
              "  <tbody>\n",
              "    <tr>\n",
              "      <th>0</th>\n",
              "      <td>The Shining</td>\n",
              "      <td>R</td>\n",
              "      <td>Drama</td>\n",
              "      <td>1980</td>\n",
              "      <td>June 13, 1980 (United States)</td>\n",
              "      <td>8.4</td>\n",
              "      <td>927000.0</td>\n",
              "      <td>Stanley Kubrick</td>\n",
              "      <td>Stephen King</td>\n",
              "      <td>Jack Nicholson</td>\n",
              "      <td>United Kingdom</td>\n",
              "      <td>19000000.0</td>\n",
              "      <td>46998772.0</td>\n",
              "      <td>Warner Bros.</td>\n",
              "      <td>146.0</td>\n",
              "    </tr>\n",
              "    <tr>\n",
              "      <th>1</th>\n",
              "      <td>The Blue Lagoon</td>\n",
              "      <td>R</td>\n",
              "      <td>Adventure</td>\n",
              "      <td>1980</td>\n",
              "      <td>July 2, 1980 (United States)</td>\n",
              "      <td>5.8</td>\n",
              "      <td>65000.0</td>\n",
              "      <td>Randal Kleiser</td>\n",
              "      <td>Henry De Vere Stacpoole</td>\n",
              "      <td>Brooke Shields</td>\n",
              "      <td>United States</td>\n",
              "      <td>4500000.0</td>\n",
              "      <td>58853106.0</td>\n",
              "      <td>Columbia Pictures</td>\n",
              "      <td>104.0</td>\n",
              "    </tr>\n",
              "    <tr>\n",
              "      <th>2</th>\n",
              "      <td>Star Wars: Episode V - The Empire Strikes Back</td>\n",
              "      <td>PG</td>\n",
              "      <td>Action</td>\n",
              "      <td>1980</td>\n",
              "      <td>June 20, 1980 (United States)</td>\n",
              "      <td>8.7</td>\n",
              "      <td>1200000.0</td>\n",
              "      <td>Irvin Kershner</td>\n",
              "      <td>Leigh Brackett</td>\n",
              "      <td>Mark Hamill</td>\n",
              "      <td>United States</td>\n",
              "      <td>18000000.0</td>\n",
              "      <td>538375067.0</td>\n",
              "      <td>Lucasfilm</td>\n",
              "      <td>124.0</td>\n",
              "    </tr>\n",
              "    <tr>\n",
              "      <th>3</th>\n",
              "      <td>Airplane!</td>\n",
              "      <td>PG</td>\n",
              "      <td>Comedy</td>\n",
              "      <td>1980</td>\n",
              "      <td>July 2, 1980 (United States)</td>\n",
              "      <td>7.7</td>\n",
              "      <td>221000.0</td>\n",
              "      <td>Jim Abrahams</td>\n",
              "      <td>Jim Abrahams</td>\n",
              "      <td>Robert Hays</td>\n",
              "      <td>United States</td>\n",
              "      <td>3500000.0</td>\n",
              "      <td>83453539.0</td>\n",
              "      <td>Paramount Pictures</td>\n",
              "      <td>88.0</td>\n",
              "    </tr>\n",
              "    <tr>\n",
              "      <th>4</th>\n",
              "      <td>Caddyshack</td>\n",
              "      <td>R</td>\n",
              "      <td>Comedy</td>\n",
              "      <td>1980</td>\n",
              "      <td>July 25, 1980 (United States)</td>\n",
              "      <td>7.3</td>\n",
              "      <td>108000.0</td>\n",
              "      <td>Harold Ramis</td>\n",
              "      <td>Brian Doyle-Murray</td>\n",
              "      <td>Chevy Chase</td>\n",
              "      <td>United States</td>\n",
              "      <td>6000000.0</td>\n",
              "      <td>39846344.0</td>\n",
              "      <td>Orion Pictures</td>\n",
              "      <td>98.0</td>\n",
              "    </tr>\n",
              "  </tbody>\n",
              "</table>\n",
              "</div>\n",
              "    <div class=\"colab-df-buttons\">\n",
              "\n",
              "  <div class=\"colab-df-container\">\n",
              "    <button class=\"colab-df-convert\" onclick=\"convertToInteractive('df-601e66e1-6be9-4c35-a0b2-c7d6188ce725')\"\n",
              "            title=\"Convert this dataframe to an interactive table.\"\n",
              "            style=\"display:none;\">\n",
              "\n",
              "  <svg xmlns=\"http://www.w3.org/2000/svg\" height=\"24px\" viewBox=\"0 -960 960 960\">\n",
              "    <path d=\"M120-120v-720h720v720H120Zm60-500h600v-160H180v160Zm220 220h160v-160H400v160Zm0 220h160v-160H400v160ZM180-400h160v-160H180v160Zm440 0h160v-160H620v160ZM180-180h160v-160H180v160Zm440 0h160v-160H620v160Z\"/>\n",
              "  </svg>\n",
              "    </button>\n",
              "\n",
              "  <style>\n",
              "    .colab-df-container {\n",
              "      display:flex;\n",
              "      gap: 12px;\n",
              "    }\n",
              "\n",
              "    .colab-df-convert {\n",
              "      background-color: #E8F0FE;\n",
              "      border: none;\n",
              "      border-radius: 50%;\n",
              "      cursor: pointer;\n",
              "      display: none;\n",
              "      fill: #1967D2;\n",
              "      height: 32px;\n",
              "      padding: 0 0 0 0;\n",
              "      width: 32px;\n",
              "    }\n",
              "\n",
              "    .colab-df-convert:hover {\n",
              "      background-color: #E2EBFA;\n",
              "      box-shadow: 0px 1px 2px rgba(60, 64, 67, 0.3), 0px 1px 3px 1px rgba(60, 64, 67, 0.15);\n",
              "      fill: #174EA6;\n",
              "    }\n",
              "\n",
              "    .colab-df-buttons div {\n",
              "      margin-bottom: 4px;\n",
              "    }\n",
              "\n",
              "    [theme=dark] .colab-df-convert {\n",
              "      background-color: #3B4455;\n",
              "      fill: #D2E3FC;\n",
              "    }\n",
              "\n",
              "    [theme=dark] .colab-df-convert:hover {\n",
              "      background-color: #434B5C;\n",
              "      box-shadow: 0px 1px 3px 1px rgba(0, 0, 0, 0.15);\n",
              "      filter: drop-shadow(0px 1px 2px rgba(0, 0, 0, 0.3));\n",
              "      fill: #FFFFFF;\n",
              "    }\n",
              "  </style>\n",
              "\n",
              "    <script>\n",
              "      const buttonEl =\n",
              "        document.querySelector('#df-601e66e1-6be9-4c35-a0b2-c7d6188ce725 button.colab-df-convert');\n",
              "      buttonEl.style.display =\n",
              "        google.colab.kernel.accessAllowed ? 'block' : 'none';\n",
              "\n",
              "      async function convertToInteractive(key) {\n",
              "        const element = document.querySelector('#df-601e66e1-6be9-4c35-a0b2-c7d6188ce725');\n",
              "        const dataTable =\n",
              "          await google.colab.kernel.invokeFunction('convertToInteractive',\n",
              "                                                    [key], {});\n",
              "        if (!dataTable) return;\n",
              "\n",
              "        const docLinkHtml = 'Like what you see? Visit the ' +\n",
              "          '<a target=\"_blank\" href=https://colab.research.google.com/notebooks/data_table.ipynb>data table notebook</a>'\n",
              "          + ' to learn more about interactive tables.';\n",
              "        element.innerHTML = '';\n",
              "        dataTable['output_type'] = 'display_data';\n",
              "        await google.colab.output.renderOutput(dataTable, element);\n",
              "        const docLink = document.createElement('div');\n",
              "        docLink.innerHTML = docLinkHtml;\n",
              "        element.appendChild(docLink);\n",
              "      }\n",
              "    </script>\n",
              "  </div>\n",
              "\n",
              "\n",
              "<div id=\"df-e9c619f5-7403-4df9-ba80-7928795a4f3c\">\n",
              "  <button class=\"colab-df-quickchart\" onclick=\"quickchart('df-e9c619f5-7403-4df9-ba80-7928795a4f3c')\"\n",
              "            title=\"Suggest charts\"\n",
              "            style=\"display:none;\">\n",
              "\n",
              "<svg xmlns=\"http://www.w3.org/2000/svg\" height=\"24px\"viewBox=\"0 0 24 24\"\n",
              "     width=\"24px\">\n",
              "    <g>\n",
              "        <path d=\"M19 3H5c-1.1 0-2 .9-2 2v14c0 1.1.9 2 2 2h14c1.1 0 2-.9 2-2V5c0-1.1-.9-2-2-2zM9 17H7v-7h2v7zm4 0h-2V7h2v10zm4 0h-2v-4h2v4z\"/>\n",
              "    </g>\n",
              "</svg>\n",
              "  </button>\n",
              "\n",
              "<style>\n",
              "  .colab-df-quickchart {\n",
              "      --bg-color: #E8F0FE;\n",
              "      --fill-color: #1967D2;\n",
              "      --hover-bg-color: #E2EBFA;\n",
              "      --hover-fill-color: #174EA6;\n",
              "      --disabled-fill-color: #AAA;\n",
              "      --disabled-bg-color: #DDD;\n",
              "  }\n",
              "\n",
              "  [theme=dark] .colab-df-quickchart {\n",
              "      --bg-color: #3B4455;\n",
              "      --fill-color: #D2E3FC;\n",
              "      --hover-bg-color: #434B5C;\n",
              "      --hover-fill-color: #FFFFFF;\n",
              "      --disabled-bg-color: #3B4455;\n",
              "      --disabled-fill-color: #666;\n",
              "  }\n",
              "\n",
              "  .colab-df-quickchart {\n",
              "    background-color: var(--bg-color);\n",
              "    border: none;\n",
              "    border-radius: 50%;\n",
              "    cursor: pointer;\n",
              "    display: none;\n",
              "    fill: var(--fill-color);\n",
              "    height: 32px;\n",
              "    padding: 0;\n",
              "    width: 32px;\n",
              "  }\n",
              "\n",
              "  .colab-df-quickchart:hover {\n",
              "    background-color: var(--hover-bg-color);\n",
              "    box-shadow: 0 1px 2px rgba(60, 64, 67, 0.3), 0 1px 3px 1px rgba(60, 64, 67, 0.15);\n",
              "    fill: var(--button-hover-fill-color);\n",
              "  }\n",
              "\n",
              "  .colab-df-quickchart-complete:disabled,\n",
              "  .colab-df-quickchart-complete:disabled:hover {\n",
              "    background-color: var(--disabled-bg-color);\n",
              "    fill: var(--disabled-fill-color);\n",
              "    box-shadow: none;\n",
              "  }\n",
              "\n",
              "  .colab-df-spinner {\n",
              "    border: 2px solid var(--fill-color);\n",
              "    border-color: transparent;\n",
              "    border-bottom-color: var(--fill-color);\n",
              "    animation:\n",
              "      spin 1s steps(1) infinite;\n",
              "  }\n",
              "\n",
              "  @keyframes spin {\n",
              "    0% {\n",
              "      border-color: transparent;\n",
              "      border-bottom-color: var(--fill-color);\n",
              "      border-left-color: var(--fill-color);\n",
              "    }\n",
              "    20% {\n",
              "      border-color: transparent;\n",
              "      border-left-color: var(--fill-color);\n",
              "      border-top-color: var(--fill-color);\n",
              "    }\n",
              "    30% {\n",
              "      border-color: transparent;\n",
              "      border-left-color: var(--fill-color);\n",
              "      border-top-color: var(--fill-color);\n",
              "      border-right-color: var(--fill-color);\n",
              "    }\n",
              "    40% {\n",
              "      border-color: transparent;\n",
              "      border-right-color: var(--fill-color);\n",
              "      border-top-color: var(--fill-color);\n",
              "    }\n",
              "    60% {\n",
              "      border-color: transparent;\n",
              "      border-right-color: var(--fill-color);\n",
              "    }\n",
              "    80% {\n",
              "      border-color: transparent;\n",
              "      border-right-color: var(--fill-color);\n",
              "      border-bottom-color: var(--fill-color);\n",
              "    }\n",
              "    90% {\n",
              "      border-color: transparent;\n",
              "      border-bottom-color: var(--fill-color);\n",
              "    }\n",
              "  }\n",
              "</style>\n",
              "\n",
              "  <script>\n",
              "    async function quickchart(key) {\n",
              "      const quickchartButtonEl =\n",
              "        document.querySelector('#' + key + ' button');\n",
              "      quickchartButtonEl.disabled = true;  // To prevent multiple clicks.\n",
              "      quickchartButtonEl.classList.add('colab-df-spinner');\n",
              "      try {\n",
              "        const charts = await google.colab.kernel.invokeFunction(\n",
              "            'suggestCharts', [key], {});\n",
              "      } catch (error) {\n",
              "        console.error('Error during call to suggestCharts:', error);\n",
              "      }\n",
              "      quickchartButtonEl.classList.remove('colab-df-spinner');\n",
              "      quickchartButtonEl.classList.add('colab-df-quickchart-complete');\n",
              "    }\n",
              "    (() => {\n",
              "      let quickchartButtonEl =\n",
              "        document.querySelector('#df-e9c619f5-7403-4df9-ba80-7928795a4f3c button');\n",
              "      quickchartButtonEl.style.display =\n",
              "        google.colab.kernel.accessAllowed ? 'block' : 'none';\n",
              "    })();\n",
              "  </script>\n",
              "</div>\n",
              "\n",
              "    </div>\n",
              "  </div>\n"
            ],
            "application/vnd.google.colaboratory.intrinsic+json": {
              "type": "dataframe",
              "variable_name": "df",
              "summary": "{\n  \"name\": \"df\",\n  \"rows\": 7668,\n  \"fields\": [\n    {\n      \"column\": \"name\",\n      \"properties\": {\n        \"dtype\": \"string\",\n        \"num_unique_values\": 7512,\n        \"samples\": [\n          \"Blade: Trinity\",\n          \"The Book of Eli\",\n          \"Broken Flowers\"\n        ],\n        \"semantic_type\": \"\",\n        \"description\": \"\"\n      }\n    },\n    {\n      \"column\": \"rating\",\n      \"properties\": {\n        \"dtype\": \"category\",\n        \"num_unique_values\": 12,\n        \"samples\": [\n          \"TV-MA\",\n          \"X\",\n          \"R\"\n        ],\n        \"semantic_type\": \"\",\n        \"description\": \"\"\n      }\n    },\n    {\n      \"column\": \"genre\",\n      \"properties\": {\n        \"dtype\": \"category\",\n        \"num_unique_values\": 19,\n        \"samples\": [\n          \"Drama\",\n          \"Biography\",\n          \"Romance\"\n        ],\n        \"semantic_type\": \"\",\n        \"description\": \"\"\n      }\n    },\n    {\n      \"column\": \"year\",\n      \"properties\": {\n        \"dtype\": \"number\",\n        \"std\": 11,\n        \"min\": 1980,\n        \"max\": 2020,\n        \"num_unique_values\": 41,\n        \"samples\": [\n          2004,\n          1993,\n          1988\n        ],\n        \"semantic_type\": \"\",\n        \"description\": \"\"\n      }\n    },\n    {\n      \"column\": \"released\",\n      \"properties\": {\n        \"dtype\": \"category\",\n        \"num_unique_values\": 3414,\n        \"samples\": [\n          \"December 3, 2004 (Italy)\",\n          \"February 28, 2003 (United States)\",\n          \"October 6, 1982 (United States)\"\n        ],\n        \"semantic_type\": \"\",\n        \"description\": \"\"\n      }\n    },\n    {\n      \"column\": \"score\",\n      \"properties\": {\n        \"dtype\": \"number\",\n        \"std\": 0.9688416402530576,\n        \"min\": 1.9,\n        \"max\": 9.3,\n        \"num_unique_values\": 72,\n        \"samples\": [\n          7.3,\n          9.3,\n          5.0\n        ],\n        \"semantic_type\": \"\",\n        \"description\": \"\"\n      }\n    },\n    {\n      \"column\": \"votes\",\n      \"properties\": {\n        \"dtype\": \"number\",\n        \"std\": 163323.7639095057,\n        \"min\": 7.0,\n        \"max\": 2400000.0,\n        \"num_unique_values\": 936,\n        \"samples\": [\n          128.0,\n          740.0,\n          115.0\n        ],\n        \"semantic_type\": \"\",\n        \"description\": \"\"\n      }\n    },\n    {\n      \"column\": \"director\",\n      \"properties\": {\n        \"dtype\": \"category\",\n        \"num_unique_values\": 2949,\n        \"samples\": [\n          \"Phillip Noyce\",\n          \"Bruce Paltrow\",\n          \"Camille Delamarre\"\n        ],\n        \"semantic_type\": \"\",\n        \"description\": \"\"\n      }\n    },\n    {\n      \"column\": \"writer\",\n      \"properties\": {\n        \"dtype\": \"string\",\n        \"num_unique_values\": 4535,\n        \"samples\": [\n          \"Gene Taft\",\n          \"Mitchell Kriegman\",\n          \"Justin Marks\"\n        ],\n        \"semantic_type\": \"\",\n        \"description\": \"\"\n      }\n    },\n    {\n      \"column\": \"star\",\n      \"properties\": {\n        \"dtype\": \"category\",\n        \"num_unique_values\": 2814,\n        \"samples\": [\n          \"Kurt McKinney\",\n          \"You Ge\",\n          \"Lisa Donaldson\"\n        ],\n        \"semantic_type\": \"\",\n        \"description\": \"\"\n      }\n    },\n    {\n      \"column\": \"country\",\n      \"properties\": {\n        \"dtype\": \"category\",\n        \"num_unique_values\": 59,\n        \"samples\": [\n          \"United Kingdom\",\n          \"Australia\",\n          \"Vietnam\"\n        ],\n        \"semantic_type\": \"\",\n        \"description\": \"\"\n      }\n    },\n    {\n      \"column\": \"budget\",\n      \"properties\": {\n        \"dtype\": \"number\",\n        \"std\": 41457296.60193096,\n        \"min\": 3000.0,\n        \"max\": 356000000.0,\n        \"num_unique_values\": 413,\n        \"samples\": [\n          321000000.0,\n          209000000.0,\n          11400000.0\n        ],\n        \"semantic_type\": \"\",\n        \"description\": \"\"\n      }\n    },\n    {\n      \"column\": \"gross\",\n      \"properties\": {\n        \"dtype\": \"number\",\n        \"std\": 165725124.31875733,\n        \"min\": 309.0,\n        \"max\": 2847246203.0,\n        \"num_unique_values\": 7472,\n        \"samples\": [\n          11098131.0,\n          1839623.0,\n          1482316.0\n        ],\n        \"semantic_type\": \"\",\n        \"description\": \"\"\n      }\n    },\n    {\n      \"column\": \"company\",\n      \"properties\": {\n        \"dtype\": \"category\",\n        \"num_unique_values\": 2385,\n        \"samples\": [\n          \"Casey Silver Productions\",\n          \"Path\\u00e9 Renn Productions\",\n          \"Engine Film\"\n        ],\n        \"semantic_type\": \"\",\n        \"description\": \"\"\n      }\n    },\n    {\n      \"column\": \"runtime\",\n      \"properties\": {\n        \"dtype\": \"number\",\n        \"std\": 18.581247313480592,\n        \"min\": 55.0,\n        \"max\": 366.0,\n        \"num_unique_values\": 138,\n        \"samples\": [\n          144.0,\n          238.0,\n          114.0\n        ],\n        \"semantic_type\": \"\",\n        \"description\": \"\"\n      }\n    }\n  ]\n}"
            }
          },
          "metadata": {},
          "execution_count": 12
        }
      ]
    },
    {
      "cell_type": "code",
      "source": [
        "df.info()"
      ],
      "metadata": {
        "colab": {
          "base_uri": "https://localhost:8080/"
        },
        "id": "hu7lPS84z1pX",
        "outputId": "0e3dc6e1-d945-44aa-d326-9f4ea73fbd56"
      },
      "execution_count": null,
      "outputs": [
        {
          "output_type": "stream",
          "name": "stdout",
          "text": [
            "<class 'pandas.core.frame.DataFrame'>\n",
            "RangeIndex: 7668 entries, 0 to 7667\n",
            "Data columns (total 15 columns):\n",
            " #   Column    Non-Null Count  Dtype  \n",
            "---  ------    --------------  -----  \n",
            " 0   name      7668 non-null   object \n",
            " 1   rating    0 non-null      float64\n",
            " 2   genre     7668 non-null   object \n",
            " 3   year      7668 non-null   int64  \n",
            " 4   released  7666 non-null   object \n",
            " 5   score     7665 non-null   float64\n",
            " 6   votes     7665 non-null   float64\n",
            " 7   director  7668 non-null   object \n",
            " 8   writer    7665 non-null   object \n",
            " 9   star      7667 non-null   object \n",
            " 10  country   7665 non-null   object \n",
            " 11  budget    7668 non-null   float64\n",
            " 12  gross     7668 non-null   float64\n",
            " 13  company   7651 non-null   object \n",
            " 14  runtime   7664 non-null   float64\n",
            "dtypes: float64(6), int64(1), object(8)\n",
            "memory usage: 898.7+ KB\n"
          ]
        }
      ]
    },
    {
      "cell_type": "code",
      "source": [
        "# Converting 'score' to numeric\n",
        "df['score'] = pd.to_numeric(df['score'], errors='coerce')\n",
        "\n",
        "# Filling missing values in the 'score' column with the mean of available scores\n",
        "df['score'] = df['score'].fillna(df['score'].mean())\n",
        "\n",
        "# Converting 'gross' and 'budget' to numeric values\n",
        "df['gross'] = pd.to_numeric(df['gross'], errors='coerce')\n",
        "df['gross'] = df['gross'].fillna(df['gross'].mean())  # Filling missing 'gross' with the mean\n",
        "\n",
        "df['budget'] = pd.to_numeric(df['budget'], errors='coerce')\n",
        "df['budget'] = df['budget'].fillna(df['budget'].median())  # Filling missing 'budget' with the median\n",
        "\n",
        "# Converting 'runtime' to numeric (if it's not already numeric)\n",
        "df['runtime'] = pd.to_numeric(df['runtime'], errors='coerce')\n",
        "\n",
        "# Displaying some insights to check\n",
        "print(df[['name', 'score', 'runtime', 'gross', 'budget']].head())"
      ],
      "metadata": {
        "id": "BwM8QEar-EpA",
        "colab": {
          "base_uri": "https://localhost:8080/"
        },
        "outputId": "1b4a61da-b5b7-4904-d343-c918194fadfb"
      },
      "execution_count": null,
      "outputs": [
        {
          "output_type": "stream",
          "name": "stdout",
          "text": [
            "                                             name  score  runtime  \\\n",
            "0                                     The Shining    8.4    146.0   \n",
            "1                                 The Blue Lagoon    5.8    104.0   \n",
            "2  Star Wars: Episode V - The Empire Strikes Back    8.7    124.0   \n",
            "3                                       Airplane!    7.7     88.0   \n",
            "4                                      Caddyshack    7.3     98.0   \n",
            "\n",
            "         gross      budget  \n",
            "0   46998772.0  19000000.0  \n",
            "1   58853106.0   4500000.0  \n",
            "2  538375067.0  18000000.0  \n",
            "3   83453539.0   3500000.0  \n",
            "4   39846344.0   6000000.0  \n"
          ]
        }
      ]
    },
    {
      "cell_type": "code",
      "source": [
        "score = df['score'].values\n",
        "runtime = pd.to_numeric(df['runtime'], errors='coerce').values\n",
        "\n",
        "print(\"Score sample:\", score[:5])\n",
        "print(\"Runtime sample:\", runtime[:5])\n",
        "\n"
      ],
      "metadata": {
        "colab": {
          "base_uri": "https://localhost:8080/"
        },
        "id": "g7GkQLNh-wNi",
        "outputId": "052f48af-2da1-4ec2-dabd-6e32ea52271f"
      },
      "execution_count": null,
      "outputs": [
        {
          "output_type": "stream",
          "name": "stdout",
          "text": [
            "Score sample: [8.4 5.8 8.7 7.7 7.3]\n",
            "Runtime sample: [146. 104. 124.  88.  98.]\n"
          ]
        }
      ]
    },
    {
      "cell_type": "code",
      "source": [
        "print(\"Original shape of runtime:\", runtime.shape)\n"
      ],
      "metadata": {
        "colab": {
          "base_uri": "https://localhost:8080/"
        },
        "id": "Sbi2TFAQ_ied",
        "outputId": "668386f1-2fac-4674-cc58-314fba6e1555"
      },
      "execution_count": null,
      "outputs": [
        {
          "output_type": "stream",
          "name": "stdout",
          "text": [
            "Original shape of runtime: (7668,)\n"
          ]
        }
      ]
    },
    {
      "cell_type": "markdown",
      "source": [
        "Reshaping to 2D"
      ],
      "metadata": {
        "id": "P0pyMZPD_nxa"
      }
    },
    {
      "cell_type": "code",
      "source": [
        "runtime_2d = runtime.reshape(-1, 1)\n",
        "print(\"Shape after reshaping to column vector:\", runtime_2d.shape)\n",
        "print(\"First 5 rows:\\n\", runtime_2d[:5])\n"
      ],
      "metadata": {
        "colab": {
          "base_uri": "https://localhost:8080/"
        },
        "id": "UnuusGHr_o33",
        "outputId": "41b94afe-bd77-4d08-8be0-872f57e694c1"
      },
      "execution_count": null,
      "outputs": [
        {
          "output_type": "stream",
          "name": "stdout",
          "text": [
            "Shape after reshaping to column vector: (7668, 1)\n",
            "First 5 rows:\n",
            " [[146.]\n",
            " [104.]\n",
            " [124.]\n",
            " [ 88.]\n",
            " [ 98.]]\n"
          ]
        }
      ]
    },
    {
      "cell_type": "markdown",
      "source": [
        "Reshape to (rows, columns) format"
      ],
      "metadata": {
        "id": "9yCXsMgh_vO6"
      }
    },
    {
      "cell_type": "code",
      "source": [
        "reshaped = runtime[:20].reshape(4, 5)  # First 20 values as 4 rows, 5 columns\n",
        "print(\"Reshaped to (4,5):\\n\", reshaped)\n",
        "\n"
      ],
      "metadata": {
        "colab": {
          "base_uri": "https://localhost:8080/"
        },
        "id": "aUTuaHrx_wLk",
        "outputId": "9e18cba6-134f-44b5-e625-3cd3a932a246"
      },
      "execution_count": null,
      "outputs": [
        {
          "output_type": "stream",
          "name": "stdout",
          "text": [
            "Reshaped to (4,5):\n",
            " [[146. 104. 124.  88.  98.]\n",
            " [ 95. 133. 129. 127. 100.]\n",
            " [116. 109. 114. 124. 104.]\n",
            " [103. 134. 109.  89. 111.]]\n"
          ]
        }
      ]
    },
    {
      "cell_type": "markdown",
      "source": [
        " Flatten a 2D array back to 1D"
      ],
      "metadata": {
        "id": "FAhcee_V_0km"
      }
    },
    {
      "cell_type": "code",
      "source": [
        "flattened = reshaped.flatten()\n",
        "print(\"Flattened back to 1D:\", flattened)\n"
      ],
      "metadata": {
        "colab": {
          "base_uri": "https://localhost:8080/"
        },
        "id": "RgwrstK0_1oy",
        "outputId": "303aacea-d970-42a0-d068-8400ebe4e335"
      },
      "execution_count": null,
      "outputs": [
        {
          "output_type": "stream",
          "name": "stdout",
          "text": [
            "Flattened back to 1D: [146. 104. 124.  88.  98.  95. 133. 129. 127. 100. 116. 109. 114. 124.\n",
            " 104. 103. 134. 109.  89. 111.]\n"
          ]
        }
      ]
    },
    {
      "cell_type": "code",
      "source": [
        "# Converting necessary columns to numeric where applicable\n",
        "df['rating'] = pd.to_numeric(df['rating'], errors='coerce')\n",
        "df['runtime'] = pd.to_numeric(df['runtime'], errors='coerce')\n",
        "df['score'] = pd.to_numeric(df['score'], errors='coerce')\n",
        "df['votes'] = pd.to_numeric(df['votes'], errors='coerce')\n",
        "df['budget'] = pd.to_numeric(df['budget'], errors='coerce')\n",
        "df['gross'] = pd.to_numeric(df['gross'], errors='coerce')"
      ],
      "metadata": {
        "id": "mNJd8rsF_HAk"
      },
      "execution_count": null,
      "outputs": []
    },
    {
      "cell_type": "markdown",
      "source": [
        " **Concatenation using hstack and vstack**"
      ],
      "metadata": {
        "id": "C7leCmWC_3ef"
      }
    },
    {
      "cell_type": "code",
      "source": [
        "runtime_2d = runtime.reshape(-1, 1)\n",
        "score_2d = pd.to_numeric(df['score'], errors='coerce').values.reshape(-1, 1)\n",
        "\n",
        "# Horizontally concatenate score and runtime\n",
        "combined = np.hstack((score_2d, runtime_2d))\n",
        "print(\"Shape after hstack (side by side):\", combined.shape)\n",
        "print(\"First 5 rows:\\n\", combined[:5])\n",
        "\n",
        "# Vertically stack first 5 of each\n",
        "stacked = np.vstack((score_2d[:5], runtime_2d[:5]))\n",
        "print(\"Vertically stacked (score + runtime):\\n\", stacked)\n"
      ],
      "metadata": {
        "colab": {
          "base_uri": "https://localhost:8080/"
        },
        "id": "Vf1gzta3_9Fh",
        "outputId": "ce226fad-5c60-49db-d309-3f698a04f168"
      },
      "execution_count": null,
      "outputs": [
        {
          "output_type": "stream",
          "name": "stdout",
          "text": [
            "Shape after hstack (side by side): (7668, 2)\n",
            "First 5 rows:\n",
            " [[  8.4 146. ]\n",
            " [  5.8 104. ]\n",
            " [  8.7 124. ]\n",
            " [  7.7  88. ]\n",
            " [  7.3  98. ]]\n",
            "Vertically stacked (score + runtime):\n",
            " [[  8.4]\n",
            " [  5.8]\n",
            " [  8.7]\n",
            " [  7.7]\n",
            " [  7.3]\n",
            " [146. ]\n",
            " [104. ]\n",
            " [124. ]\n",
            " [ 88. ]\n",
            " [ 98. ]]\n"
          ]
        }
      ]
    },
    {
      "cell_type": "markdown",
      "source": [
        "**Splitting**"
      ],
      "metadata": {
        "id": "K9m9hYc7AR7y"
      }
    },
    {
      "cell_type": "code",
      "source": [
        "# Horizontal split (split columns)\n",
        "split_ratings, split_time = np.hsplit(combined, 2)\n",
        "print(\"Split Ratings (first 5):\", split_ratings[:5])\n",
        "print(\"Split Time Taken (first 5):\", split_time[:5])\n",
        "\n",
        "# Vertical split (split rows into 2 halves)\n",
        "top, bottom = np.vsplit(combined[:10], 2)\n",
        "print(\"Top half:\\n\", top)\n",
        "print(\"Bottom half:\\n\", bottom)\n"
      ],
      "metadata": {
        "colab": {
          "base_uri": "https://localhost:8080/"
        },
        "id": "9egJNJlGAVmM",
        "outputId": "cd4ba4c8-7c9f-4399-e542-e9f580a4a69e"
      },
      "execution_count": null,
      "outputs": [
        {
          "output_type": "stream",
          "name": "stdout",
          "text": [
            "Split Ratings (first 5): [[4.2]\n",
            " [4.7]\n",
            " [4.7]\n",
            " [4.3]\n",
            " [4.7]]\n",
            "Split Time Taken (first 5): [[46.]\n",
            " [23.]\n",
            " [21.]\n",
            " [20.]\n",
            " [41.]]\n",
            "Top half:\n",
            " [[ 4.2 46. ]\n",
            " [ 4.7 23. ]\n",
            " [ 4.7 21. ]\n",
            " [ 4.3 20. ]\n",
            " [ 4.7 41. ]]\n",
            "Bottom half:\n",
            " [[ 4.5 20. ]\n",
            " [ 4.  33. ]\n",
            " [ 4.2 40. ]\n",
            " [ 4.9 41. ]\n",
            " [ 4.7 15. ]]\n"
          ]
        }
      ]
    },
    {
      "cell_type": "markdown",
      "source": [
        " Math operations on arrays"
      ],
      "metadata": {
        "id": "S66PSTVhAjgZ"
      }
    },
    {
      "cell_type": "code",
      "source": [
        "# Assuming the necessary columns are already converted to numeric and missing values handled\n",
        "\n",
        "# Square root of runtime\n",
        "print(\"√ Runtime (first 5):\", np.sqrt(df['runtime'][:5]))\n",
        "\n",
        "# Exponent of ratings\n",
        "print(\"exp(Ratings) (first 5):\", np.exp(df['rating'][:5]))\n",
        "\n",
        "# Log of (runtime + 1)\n",
        "print(\"log(Runtime + 1):\", np.log1p(df['runtime'][:5]))\n",
        "\n",
        "# Absolute values (ratings)\n",
        "print(\"Absolute Ratings (first 5):\", np.abs(df['rating'][:5]))\n",
        "\n",
        "# Trigonometric functions for ratings (just for demonstration)\n",
        "print(\"sin(Ratings) (first 5):\", np.sin(df['rating'][:5]))\n",
        "\n",
        "# Round ratings to nearest integer\n",
        "print(\"Rounded Ratings (first 5):\", np.round(df['rating'][:5]))\n",
        "\n",
        "# Ceiling and floor of ratings\n",
        "print(\"Ceil Ratings (first 5):\", np.ceil(df['rating'][:5]))\n",
        "print(\"Floor Ratings (first 5):\", np.floor(df['rating'][:5]))\n",
        "\n",
        "# Check where runtime > 100\n",
        "print(\"Runtime > 100 (first 5):\", df['runtime'][:5] > 100)\n",
        "\n",
        "# Additional operations on other columns:\n",
        "\n",
        "# Square root of score\n",
        "print(\"√ Score (first 5):\", np.sqrt(df['score'][:5]))\n",
        "\n",
        "# Exponent of budget\n",
        "print(\"exp(Budget) (first 5):\", np.exp(df['budget'][:5]))\n",
        "\n",
        "# Log of (gross + 1)\n",
        "print(\"log(Gross + 1):\", np.log1p(df['gross'][:5]))\n",
        "\n",
        "# Absolute value of votes\n",
        "print(\"Absolute Votes (first 5):\", np.abs(df['votes'][:5]))\n",
        "\n",
        "# Trigonometric operations on budget\n",
        "print(\"sin(Budget) (first 5):\", np.sin(df['budget'][:5]))\n",
        "\n",
        "# Round gross values\n",
        "print(\"Rounded Gross (first 5):\", np.round(df['gross'][:5]))\n",
        "\n",
        "# Ceiling and floor of votes\n",
        "print(\"Ceil Votes (first 5):\", np.ceil(df['votes'][:5]))\n",
        "print(\"Floor Votes (first 5):\", np.floor(df['votes'][:5]))\n"
      ],
      "metadata": {
        "colab": {
          "base_uri": "https://localhost:8080/"
        },
        "id": "GSLk5PScAlro",
        "outputId": "82dbfd91-b7ee-4122-e116-1d95da709c23"
      },
      "execution_count": null,
      "outputs": [
        {
          "output_type": "stream",
          "name": "stdout",
          "text": [
            "√ Runtime (first 5): 0    12.083046\n",
            "1    10.198039\n",
            "2    11.135529\n",
            "3     9.380832\n",
            "4     9.899495\n",
            "Name: runtime, dtype: float64\n",
            "exp(Ratings) (first 5): 0   NaN\n",
            "1   NaN\n",
            "2   NaN\n",
            "3   NaN\n",
            "4   NaN\n",
            "Name: rating, dtype: float64\n",
            "log(Runtime + 1): 0    4.990433\n",
            "1    4.653960\n",
            "2    4.828314\n",
            "3    4.488636\n",
            "4    4.595120\n",
            "Name: runtime, dtype: float64\n",
            "Absolute Ratings (first 5): 0   NaN\n",
            "1   NaN\n",
            "2   NaN\n",
            "3   NaN\n",
            "4   NaN\n",
            "Name: rating, dtype: float64\n",
            "sin(Ratings) (first 5): 0   NaN\n",
            "1   NaN\n",
            "2   NaN\n",
            "3   NaN\n",
            "4   NaN\n",
            "Name: rating, dtype: float64\n",
            "Rounded Ratings (first 5): 0   NaN\n",
            "1   NaN\n",
            "2   NaN\n",
            "3   NaN\n",
            "4   NaN\n",
            "Name: rating, dtype: float64\n",
            "Ceil Ratings (first 5): 0   NaN\n",
            "1   NaN\n",
            "2   NaN\n",
            "3   NaN\n",
            "4   NaN\n",
            "Name: rating, dtype: float64\n",
            "Floor Ratings (first 5): 0   NaN\n",
            "1   NaN\n",
            "2   NaN\n",
            "3   NaN\n",
            "4   NaN\n",
            "Name: rating, dtype: float64\n",
            "Runtime > 100 (first 5): 0     True\n",
            "1     True\n",
            "2     True\n",
            "3    False\n",
            "4    False\n",
            "Name: runtime, dtype: bool\n",
            "√ Score (first 5): 0    2.898275\n",
            "1    2.408319\n",
            "2    2.949576\n",
            "3    2.774887\n",
            "4    2.701851\n",
            "Name: score, dtype: float64\n",
            "exp(Budget) (first 5): 0    inf\n",
            "1    inf\n",
            "2    inf\n",
            "3    inf\n",
            "4    inf\n",
            "Name: budget, dtype: float64\n",
            "log(Gross + 1): 0    17.665632\n",
            "1    17.890555\n",
            "2    20.104066\n",
            "3    18.239801\n",
            "4    17.500541\n",
            "Name: gross, dtype: float64\n",
            "Absolute Votes (first 5): 0     927000.0\n",
            "1      65000.0\n",
            "2    1200000.0\n",
            "3     221000.0\n",
            "4     108000.0\n",
            "Name: votes, dtype: float64\n",
            "sin(Budget) (first 5): 0   -0.488643\n",
            "1    0.999269\n",
            "2   -0.152374\n",
            "3    0.949449\n",
            "4   -0.839416\n",
            "Name: budget, dtype: float64\n",
            "Rounded Gross (first 5): 0     46998772.0\n",
            "1     58853106.0\n",
            "2    538375067.0\n",
            "3     83453539.0\n",
            "4     39846344.0\n",
            "Name: gross, dtype: float64\n",
            "Ceil Votes (first 5): 0     927000.0\n",
            "1      65000.0\n",
            "2    1200000.0\n",
            "3     221000.0\n",
            "4     108000.0\n",
            "Name: votes, dtype: float64\n",
            "Floor Votes (first 5): 0     927000.0\n",
            "1      65000.0\n",
            "2    1200000.0\n",
            "3     221000.0\n",
            "4     108000.0\n",
            "Name: votes, dtype: float64\n"
          ]
        },
        {
          "output_type": "stream",
          "name": "stderr",
          "text": [
            "/usr/local/lib/python3.11/dist-packages/pandas/core/arraylike.py:399: RuntimeWarning: overflow encountered in exp\n",
            "  result = getattr(ufunc, method)(*inputs, **kwargs)\n"
          ]
        }
      ]
    },
    {
      "cell_type": "markdown",
      "source": [
        "**Aggregation functions**"
      ],
      "metadata": {
        "id": "41_VEOHWA5DG"
      }
    },
    {
      "cell_type": "code",
      "source": [
        "# Mean of Budget, Gross, and Runtime\n",
        "print(\"Mean Budget:\", np.nanmean(df['budget']))\n",
        "print(\"Mean Gross:\", np.nanmean(df['gross']))\n",
        "print(\"Mean Runtime:\", np.nanmean(df['runtime']))\n",
        "\n",
        "# Max of Budget, Min of Rating\n",
        "print(\"Max Budget:\", np.nanmax(df['budget']))\n",
        "print(\"Min Rating:\", np.nanmin(df['rating']))\n",
        "\n",
        "# Standard Deviation of Runtime and Variance of Rating\n",
        "print(\"Standard Deviation (Runtime):\", np.nanstd(df['runtime']))\n",
        "print(\"Variance (Rating):\", np.nanvar(df['rating']))\n",
        "\n",
        "# Sum of Gross and Count of non-null Budget\n",
        "print(\"Sum of Gross:\", np.nansum(df['gross']))\n",
        "print(\"Count of non-null Budget:\", np.count_nonzero(~np.isnan(df['budget'])))\n"
      ],
      "metadata": {
        "colab": {
          "base_uri": "https://localhost:8080/"
        },
        "id": "-viT_IdcA9Tb",
        "outputId": "0b8a4705-3b7e-4c76-a7e5-29de33efe7e0"
      },
      "execution_count": null,
      "outputs": [
        {
          "output_type": "stream",
          "name": "stdout",
          "text": [
            "Mean Budget: 31317559.915362544\n",
            "Mean Gross: 78500541.01778314\n",
            "Mean Runtime: 107.2616127348643\n",
            "Max Budget: 356000000.0\n",
            "Min Rating: nan\n",
            "Standard Deviation (Runtime): 18.5800350318082\n",
            "Variance (Rating): nan\n",
            "Sum of Gross: 601942148524.3611\n",
            "Count of non-null Budget: 7668\n"
          ]
        },
        {
          "output_type": "stream",
          "name": "stderr",
          "text": [
            "<ipython-input-24-904f3d3bd585>:8: RuntimeWarning: All-NaN axis encountered\n",
            "  print(\"Min Rating:\", np.nanmin(df['rating']))\n",
            "<ipython-input-24-904f3d3bd585>:12: RuntimeWarning: Degrees of freedom <= 0 for slice.\n",
            "  print(\"Variance (Rating):\", np.nanvar(df['rating']))\n"
          ]
        }
      ]
    },
    {
      "cell_type": "code",
      "source": [
        "\n",
        "# Replace NaN with 0 (or any other value you prefer) before computing mean\n",
        "combined = np.nan_to_num(combined, nan=0)\n",
        "\n",
        "# Column-wise Mean (Rating, Runtime)\n",
        "print(\"Column-wise Mean (Rating, Runtime):\", np.nanmean(combined, axis=0))\n",
        "\n",
        "# Row-wise Sum\n",
        "print(\"Row-wise Sum (first 5):\", np.nansum(combined[:5], axis=1))\n"
      ],
      "metadata": {
        "colab": {
          "base_uri": "https://localhost:8080/"
        },
        "id": "nYd9V7XMBAk9",
        "outputId": "ee0fee00-1800-4720-a597-77afa7103a1e"
      },
      "execution_count": null,
      "outputs": [
        {
          "output_type": "stream",
          "name": "stdout",
          "text": [
            "Column-wise Mean (Rating, Runtime): [  0.         107.20565989]\n",
            "Row-wise Sum (first 5): [146. 104. 124.  88.  98.]\n"
          ]
        }
      ]
    },
    {
      "cell_type": "markdown",
      "source": [
        " Broadcasting"
      ],
      "metadata": {
        "id": "UKYNpLXgBPB2"
      }
    },
    {
      "cell_type": "code",
      "source": [
        "# Adjustment array: Add 0.5 to ratings, 10 to time\n",
        "adjustment = np.array([0.5, 10])\n",
        "\n",
        "# Broadcast the addition to all rows of combined\n",
        "broadcasted_result = combined[:5] + adjustment\n",
        "print(\"Broadcasted addition (ratings+0.5, time+10):\\n\", broadcasted_result)"
      ],
      "metadata": {
        "colab": {
          "base_uri": "https://localhost:8080/"
        },
        "id": "zWt6TwuoBOvy",
        "outputId": "572c9df3-fbf9-43cb-c846-540f797afb3a"
      },
      "execution_count": null,
      "outputs": [
        {
          "output_type": "stream",
          "name": "stdout",
          "text": [
            "Broadcasted addition (ratings+0.5, time+10):\n",
            " [[  0.5 156. ]\n",
            " [  0.5 114. ]\n",
            " [  0.5 134. ]\n",
            " [  0.5  98. ]\n",
            " [  0.5 108. ]]\n"
          ]
        }
      ]
    },
    {
      "cell_type": "markdown",
      "source": [
        " Boolean Masking"
      ],
      "metadata": {
        "id": "Wqb0ofUDBkBH"
      }
    },
    {
      "cell_type": "code",
      "source": [
        "# Movies with rating > 4.5\n",
        "high_rated = df['score'] > 4.5\n",
        "print(\"High Rated Boolean Mask (first 10):\", high_rated[:10])\n",
        "\n",
        "# Movie names with rating > 4.5\n",
        "print(\"Movies with rating > 4.5:\\n\", df['name'][high_rated])\n"
      ],
      "metadata": {
        "colab": {
          "base_uri": "https://localhost:8080/"
        },
        "id": "SlIilZNFBlG_",
        "outputId": "da5ff13f-887d-4a04-fdd2-019cb68e7d70"
      },
      "execution_count": null,
      "outputs": [
        {
          "output_type": "stream",
          "name": "stdout",
          "text": [
            "High Rated Boolean Mask (first 10): 0    True\n",
            "1    True\n",
            "2    True\n",
            "3    True\n",
            "4    True\n",
            "5    True\n",
            "6    True\n",
            "7    True\n",
            "8    True\n",
            "9    True\n",
            "Name: score, dtype: bool\n",
            "Movies with rating > 4.5:\n",
            " 0                                          The Shining\n",
            "1                                      The Blue Lagoon\n",
            "2       Star Wars: Episode V - The Empire Strikes Back\n",
            "3                                            Airplane!\n",
            "4                                           Caddyshack\n",
            "                             ...                      \n",
            "7662                                     The Robinsons\n",
            "7664                                       Dream Round\n",
            "7665                                     Saving Mbango\n",
            "7666                                      It's Just Us\n",
            "7667                                         Tee em el\n",
            "Name: name, Length: 7361, dtype: object\n"
          ]
        }
      ]
    },
    {
      "cell_type": "code",
      "source": [
        "# Movies with score > 4 AND runtime < 30\n",
        "mask = (df['score'] > 4) & (df['runtime'] < 30)\n",
        "print(\"Matching Movie Names:\\n\", df['name'][mask])\n",
        "print(\"Matching Runtime:\\n\", df['runtime'][mask])\n"
      ],
      "metadata": {
        "colab": {
          "base_uri": "https://localhost:8080/"
        },
        "id": "No_BHX2FBqtI",
        "outputId": "0f1fe736-8d2d-405b-845d-226996f9384d"
      },
      "execution_count": null,
      "outputs": [
        {
          "output_type": "stream",
          "name": "stdout",
          "text": [
            "Matching Movie Names:\n",
            " Series([], Name: name, dtype: object)\n",
            "Matching Runtime:\n",
            " Series([], Name: runtime, dtype: float64)\n"
          ]
        }
      ]
    },
    {
      "cell_type": "markdown",
      "source": [
        "Fancy Indexing"
      ],
      "metadata": {
        "id": "8LqiO2eKBtie"
      }
    },
    {
      "cell_type": "code",
      "source": [
        "# Ratings at specific row indices\n",
        "indices = [0, 2, 5, 9]\n",
        "print(\"Movies at indices [0,2,5,9]:\", df['name'][indices])\n",
        "\n",
        "# Top 5 highest rated movies\n",
        "top5_idx = np.argsort(df['score'])[-5:]\n",
        "print(\"Top 5 Scores:\", df['score'][top5_idx])\n",
        "print(\"Runtime for Top 5 Scores:\", df['runtime'][top5_idx])\n"
      ],
      "metadata": {
        "colab": {
          "base_uri": "https://localhost:8080/"
        },
        "id": "G5WMv2liBvAQ",
        "outputId": "77753706-bd76-428d-97d6-9b2911505848"
      },
      "execution_count": null,
      "outputs": [
        {
          "output_type": "stream",
          "name": "stdout",
          "text": [
            "Movies at indices [0,2,5,9]: 0                                       The Shining\n",
            "2    Star Wars: Episode V - The Empire Strikes Back\n",
            "5                                   Friday the 13th\n",
            "9                                   The Long Riders\n",
            "Name: name, dtype: object\n",
            "Top 5 Scores: 4245    8.9\n",
            "2444    8.9\n",
            "2247    8.9\n",
            "5243    9.0\n",
            "2443    9.3\n",
            "Name: score, dtype: float64\n",
            "Runtime for Top 5 Scores: 4245    201.0\n",
            "2444    154.0\n",
            "2247    195.0\n",
            "5243    152.0\n",
            "2443    142.0\n",
            "Name: runtime, dtype: float64\n"
          ]
        }
      ]
    },
    {
      "cell_type": "code",
      "source": [
        "# Remove NaNs from specific columns and use clean arrays\n",
        "valid_mask = ~df['rating'].isna()\n",
        "clean_ratings = df['rating'][valid_mask]\n",
        "clean_scores = df['score'][valid_mask]\n",
        "clean_runtime = df['runtime'][valid_mask]\n",
        "print(\"Clean Ratings (no NaNs):\", clean_ratings[:5])\n"
      ],
      "metadata": {
        "colab": {
          "base_uri": "https://localhost:8080/"
        },
        "id": "foQrE3PjCRF8",
        "outputId": "e41bb6b5-00c7-43d5-b6a7-8046e8e60b77"
      },
      "execution_count": null,
      "outputs": [
        {
          "output_type": "stream",
          "name": "stdout",
          "text": [
            "Clean Ratings (no NaNs): Series([], Name: rating, dtype: float64)\n"
          ]
        }
      ]
    },
    {
      "cell_type": "markdown",
      "source": [
        "sorting"
      ],
      "metadata": {
        "id": "GBGGlUd4Cg48"
      }
    },
    {
      "cell_type": "code",
      "source": [
        "# Sort runtime (ascending)\n",
        "sorted_runtime = np.sort(df['runtime'])\n",
        "print(\"Sorted Runtime (Ascending):\", sorted_runtime[:10])\n",
        "\n",
        "# Sort scores (descending)\n",
        "sorted_scores_desc = np.sort(df['score'])[::-1]\n",
        "print(\"Sorted Scores (Descending):\", sorted_scores_desc[:10])\n",
        "\n",
        "# Get indices that would sort runtime\n",
        "runtime_order = np.argsort(df['runtime'])\n",
        "print(\"Indices that sort runtime:\", runtime_order[:10])\n",
        "\n",
        "# Use sorting indices to sort corresponding movie names\n",
        "sorted_movies_by_runtime = df['name'].iloc[runtime_order]\n",
        "print(\"Movies sorted by runtime:\", sorted_movies_by_runtime[:10])\n"
      ],
      "metadata": {
        "colab": {
          "base_uri": "https://localhost:8080/"
        },
        "id": "Q4bdcVQ3CjOr",
        "outputId": "f1055a0f-e944-4ffb-c086-3978420d3ffc"
      },
      "execution_count": null,
      "outputs": [
        {
          "output_type": "stream",
          "name": "stdout",
          "text": [
            "Sorted Runtime (Ascending): [55. 63. 69. 69. 71. 71. 72. 72. 72. 72.]\n",
            "Sorted Scores (Descending): [9.3 9.  8.9 8.9 8.9 8.8 8.8 8.8 8.8 8.7]\n",
            "Indices that sort runtime: 0     474\n",
            "1    5983\n",
            "2    3318\n",
            "3    1271\n",
            "4    4493\n",
            "5    2381\n",
            "6    4407\n",
            "7    1184\n",
            "8     834\n",
            "9    2357\n",
            "Name: runtime, dtype: int64\n",
            "Movies sorted by runtime: 474      The Business of Show Business\n",
            "5983               Season of the Witch\n",
            "3318                         Following\n",
            "1271              The Land Before Time\n",
            "4493                           9 Songs\n",
            "2381                Once Upon a Forest\n",
            "4407                 The Jungle Book 2\n",
            "1184                       Creepozoids\n",
            "834              Here Come the Littles\n",
            "2357    We're Back! A Dinosaur's Story\n",
            "Name: name, dtype: object\n"
          ]
        },
        {
          "output_type": "stream",
          "name": "stderr",
          "text": [
            "/usr/local/lib/python3.11/dist-packages/numpy/_core/fromnumeric.py:57: FutureWarning: The behavior of Series.argsort in the presence of NA values is deprecated. In a future version, NA values will be ordered last instead of set to -1.\n",
            "  return bound(*args, **kwds)\n"
          ]
        }
      ]
    },
    {
      "cell_type": "markdown",
      "source": [
        "# **PANDAS OPERATIONS**"
      ],
      "metadata": {
        "id": "w7l0ICdXGOZC"
      }
    },
    {
      "cell_type": "markdown",
      "source": [
        "**Series**"
      ],
      "metadata": {
        "id": "fCEyon-RGePz"
      }
    },
    {
      "cell_type": "code",
      "source": [
        "# Series from numeric column\n",
        "rating_series = df['score']\n",
        "print(\"Rating Series:\\n\", rating_series.head())\n",
        "\n",
        "# Series from float column\n",
        "score_series = df['score']\n",
        "print(\"\\nScore Series:\\n\", score_series.head())\n",
        "\n",
        "# Series from categorical column\n",
        "genre_series = df['genre']\n",
        "print(\"\\nGenre Series:\\n\", genre_series.head())\n",
        "\n",
        "released_series = df['released'].str.contains('1980')  # Example for boolean filter based on the year\n",
        "print(\"\\nReleased Series:\\n\", released_series.head())\n"
      ],
      "metadata": {
        "colab": {
          "base_uri": "https://localhost:8080/"
        },
        "id": "TxUxCnMTGUZR",
        "outputId": "cc88ad71-9111-45ee-8875-32183137d714"
      },
      "execution_count": null,
      "outputs": [
        {
          "output_type": "stream",
          "name": "stdout",
          "text": [
            "Rating Series:\n",
            " 0    8.4\n",
            "1    5.8\n",
            "2    8.7\n",
            "3    7.7\n",
            "4    7.3\n",
            "Name: score, dtype: float64\n",
            "\n",
            "Score Series:\n",
            " 0    8.4\n",
            "1    5.8\n",
            "2    8.7\n",
            "3    7.7\n",
            "4    7.3\n",
            "Name: score, dtype: float64\n",
            "\n",
            "Genre Series:\n",
            " 0        Drama\n",
            "1    Adventure\n",
            "2       Action\n",
            "3       Comedy\n",
            "4       Comedy\n",
            "Name: genre, dtype: object\n",
            "\n",
            "Released Series:\n",
            " 0    True\n",
            "1    True\n",
            "2    True\n",
            "3    True\n",
            "4    True\n",
            "Name: released, dtype: object\n"
          ]
        }
      ]
    },
    {
      "cell_type": "markdown",
      "source": [
        "Custom Index Series"
      ],
      "metadata": {
        "id": "g31fQ4j-GrUx"
      }
    },
    {
      "cell_type": "code",
      "source": [
        "# Ratings with movie name as index\n",
        "ratings_with_name = pd.Series(df['score'].values, index=df['name'])\n",
        "print(\"\\nCustom Indexed Series (Ratings by Movie Name):\\n\", ratings_with_name.head())\n"
      ],
      "metadata": {
        "colab": {
          "base_uri": "https://localhost:8080/"
        },
        "id": "EAaGp_ZjGsXO",
        "outputId": "d17df0d9-f112-4873-8db2-8feb904349fb"
      },
      "execution_count": null,
      "outputs": [
        {
          "output_type": "stream",
          "name": "stdout",
          "text": [
            "\n",
            "Custom Indexed Series (Ratings by Movie Name):\n",
            " name\n",
            "The Shining                                       8.4\n",
            "The Blue Lagoon                                   5.8\n",
            "Star Wars: Episode V - The Empire Strikes Back    8.7\n",
            "Airplane!                                         7.7\n",
            "Caddyshack                                        7.3\n",
            "dtype: float64\n"
          ]
        }
      ]
    },
    {
      "cell_type": "code",
      "source": [
        "# Score with movie name as index\n",
        "scores_with_name = pd.Series(df['score'].values, index=df['name'])\n",
        "print(\"\\nCustom Indexed Series (Scores by Movie Name):\\n\", scores_with_name.head())\n",
        "\n",
        "# Series Properties\n",
        "print(\"Mean Runtime (excluding nulls):\", df['runtime'].mean())\n",
        "print(\"Max Score:\", df['score'].max())\n",
        "print(\"Unique Countries:\\n\", df['country'].unique())\n",
        "print(\"Genre value counts:\\n\", df['genre'].value_counts())\n"
      ],
      "metadata": {
        "colab": {
          "base_uri": "https://localhost:8080/"
        },
        "id": "xrHmb5-fG1AT",
        "outputId": "e69b8de3-f20a-4c3d-cc7b-53e93718bbeb"
      },
      "execution_count": null,
      "outputs": [
        {
          "output_type": "stream",
          "name": "stdout",
          "text": [
            "\n",
            "Custom Indexed Series (Scores by Movie Name):\n",
            " name\n",
            "The Shining                                       8.4\n",
            "The Blue Lagoon                                   5.8\n",
            "Star Wars: Episode V - The Empire Strikes Back    8.7\n",
            "Airplane!                                         7.7\n",
            "Caddyshack                                        7.3\n",
            "dtype: float64\n",
            "Mean Runtime (excluding nulls): 107.2616127348643\n",
            "Max Score: 9.3\n",
            "Unique Countries:\n",
            " ['United Kingdom' 'United States' 'South Africa' 'West Germany' 'Canada'\n",
            " 'Australia' 'Libya' 'Italy' 'Soviet Union' 'France' 'Hong Kong'\n",
            " 'South Korea' 'Sweden' 'Spain' 'Mexico' 'Switzerland' 'Netherlands'\n",
            " 'New Zealand' 'Philippines' 'Israel' 'Japan' 'Hungary' 'Brazil'\n",
            " 'Yugoslavia' 'Argentina' 'Taiwan' 'Ireland' 'Denmark' 'Germany' 'Iran'\n",
            " 'China' 'Belgium' 'Austria' 'Portugal' 'Vietnam' 'Republic of Macedonia'\n",
            " 'Russia' 'Federal Republic of Yugoslavia' 'Greece' 'Czech Republic'\n",
            " 'Norway' 'India' 'Jamaica' 'Aruba' 'Thailand' 'Colombia' 'Romania' nan\n",
            " 'United Arab Emirates' 'Indonesia' 'Turkey' 'Serbia' 'Poland' 'Kenya'\n",
            " 'Finland' 'Iceland' 'Chile' 'Panama' 'Malta' 'Lebanon']\n",
            "Genre value counts:\n",
            " genre\n",
            "Comedy       2245\n",
            "Action       1705\n",
            "Drama        1518\n",
            "Crime         551\n",
            "Biography     443\n",
            "Adventure     427\n",
            "Animation     338\n",
            "Horror        322\n",
            "Fantasy        44\n",
            "Mystery        20\n",
            "Thriller       16\n",
            "Family         11\n",
            "Sci-Fi         10\n",
            "Romance        10\n",
            "Western         3\n",
            "Musical         2\n",
            "Music           1\n",
            "History         1\n",
            "Sport           1\n",
            "Name: count, dtype: int64\n"
          ]
        }
      ]
    },
    {
      "cell_type": "markdown",
      "source": [
        "**DataFrame**"
      ],
      "metadata": {
        "id": "5Ob7rOrVHGUZ"
      }
    },
    {
      "cell_type": "code",
      "source": [
        "print(\"Shape of DataFrame (rows, columns):\", df.shape)\n",
        "print(\"\\nColumn Names:\\n\", df.columns)\n",
        "print(\"\\nData Types of Columns:\\n\", df.dtypes)\n"
      ],
      "metadata": {
        "colab": {
          "base_uri": "https://localhost:8080/"
        },
        "id": "8eN-Z3vYHIrc",
        "outputId": "2002817c-f192-42b6-e324-c973d4ed2265"
      },
      "execution_count": null,
      "outputs": [
        {
          "output_type": "stream",
          "name": "stdout",
          "text": [
            "Shape of DataFrame (rows, columns): (7668, 15)\n",
            "\n",
            "Column Names:\n",
            " Index(['name', 'rating', 'genre', 'year', 'released', 'score', 'votes',\n",
            "       'director', 'writer', 'star', 'country', 'budget', 'gross', 'company',\n",
            "       'runtime'],\n",
            "      dtype='object')\n",
            "\n",
            "Data Types of Columns:\n",
            " name         object\n",
            "rating      float64\n",
            "genre        object\n",
            "year          int64\n",
            "released     object\n",
            "score       float64\n",
            "votes       float64\n",
            "director     object\n",
            "writer       object\n",
            "star         object\n",
            "country      object\n",
            "budget      float64\n",
            "gross       float64\n",
            "company      object\n",
            "runtime     float64\n",
            "dtype: object\n"
          ]
        }
      ]
    },
    {
      "cell_type": "code",
      "source": [
        "print(\"First Row:\\n\", df.iloc[0])\n",
        "print(\"\\nRow with index 10:\\n\", df.iloc[10])\n",
        "\n",
        "selected = df[['name', 'country', 'released', 'genre']]\n",
        "print(\"Selected Columns:\\n\", selected.head())\n",
        "\n"
      ],
      "metadata": {
        "colab": {
          "base_uri": "https://localhost:8080/"
        },
        "id": "Dk9BBqHcHbS_",
        "outputId": "328eab18-20cb-43ae-ae67-bf6bde4ca0b7"
      },
      "execution_count": null,
      "outputs": [
        {
          "output_type": "stream",
          "name": "stdout",
          "text": [
            "First Row:\n",
            " name                          The Shining\n",
            "rating                                NaN\n",
            "genre                               Drama\n",
            "year                                 1980\n",
            "released    June 13, 1980 (United States)\n",
            "score                                 8.4\n",
            "votes                            927000.0\n",
            "director                  Stanley Kubrick\n",
            "writer                       Stephen King\n",
            "star                       Jack Nicholson\n",
            "country                    United Kingdom\n",
            "budget                         19000000.0\n",
            "gross                          46998772.0\n",
            "company                      Warner Bros.\n",
            "runtime                             146.0\n",
            "Name: 0, dtype: object\n",
            "\n",
            "Row with index 10:\n",
            " name                    Any Which Way You Can\n",
            "rating                                    NaN\n",
            "genre                                  Action\n",
            "year                                     1980\n",
            "released    December 17, 1980 (United States)\n",
            "score                                     6.1\n",
            "votes                                 18000.0\n",
            "director                       Buddy Van Horn\n",
            "writer                       Stanford Sherman\n",
            "star                           Clint Eastwood\n",
            "country                         United States\n",
            "budget                             15000000.0\n",
            "gross                              70687344.0\n",
            "company                   The Malpaso Company\n",
            "runtime                                 116.0\n",
            "Name: 10, dtype: object\n",
            "Selected Columns:\n",
            "                                              name         country  \\\n",
            "0                                     The Shining  United Kingdom   \n",
            "1                                 The Blue Lagoon   United States   \n",
            "2  Star Wars: Episode V - The Empire Strikes Back   United States   \n",
            "3                                       Airplane!   United States   \n",
            "4                                      Caddyshack   United States   \n",
            "\n",
            "                        released      genre  \n",
            "0  June 13, 1980 (United States)      Drama  \n",
            "1   July 2, 1980 (United States)  Adventure  \n",
            "2  June 20, 1980 (United States)     Action  \n",
            "3   July 2, 1980 (United States)     Comedy  \n",
            "4  July 25, 1980 (United States)     Comedy  \n"
          ]
        }
      ]
    },
    {
      "cell_type": "markdown",
      "source": [],
      "metadata": {
        "id": "IMZURkJtHasa"
      }
    },
    {
      "cell_type": "code",
      "source": [
        "# Single column as a Series\n",
        "print(df['score'].head())\n",
        "print()\n",
        "\n",
        "# Multiple columns as a DataFrame\n",
        "print(df[['score', 'gross', 'country']].head())\n",
        "print()\n",
        "\n",
        "# Access row by label-based indexing (for row label/index)\n",
        "print(df.loc[0])     # First row\n",
        "\n",
        "print()\n",
        "# Access row by integer position\n",
        "print(df.iloc[2])    # Third row\n",
        "\n",
        "print()\n",
        "\n",
        "# Using .loc[row_label, column_label]\n",
        "print(df.loc[0, 'country'])\n",
        "print()\n",
        "\n",
        "# Using .iloc[row_position, column_position]\n",
        "print(df.iloc[4, 10])   # For example, 5th row, 11th column (like budget)\n"
      ],
      "metadata": {
        "colab": {
          "base_uri": "https://localhost:8080/"
        },
        "id": "V8K0ih5wH602",
        "outputId": "9d4dc0b6-2ebd-498f-fa9b-9cb46be7dc3e"
      },
      "execution_count": null,
      "outputs": [
        {
          "output_type": "stream",
          "name": "stdout",
          "text": [
            "0    8.4\n",
            "1    5.8\n",
            "2    8.7\n",
            "3    7.7\n",
            "4    7.3\n",
            "Name: score, dtype: float64\n",
            "\n",
            "   score        gross         country\n",
            "0    8.4   46998772.0  United Kingdom\n",
            "1    5.8   58853106.0   United States\n",
            "2    8.7  538375067.0   United States\n",
            "3    7.7   83453539.0   United States\n",
            "4    7.3   39846344.0   United States\n",
            "\n",
            "name                          The Shining\n",
            "rating                                NaN\n",
            "genre                               Drama\n",
            "year                                 1980\n",
            "released    June 13, 1980 (United States)\n",
            "score                                 8.4\n",
            "votes                            927000.0\n",
            "director                  Stanley Kubrick\n",
            "writer                       Stephen King\n",
            "star                       Jack Nicholson\n",
            "country                    United Kingdom\n",
            "budget                         19000000.0\n",
            "gross                          46998772.0\n",
            "company                      Warner Bros.\n",
            "runtime                             146.0\n",
            "Name: 0, dtype: object\n",
            "\n",
            "name        Star Wars: Episode V - The Empire Strikes Back\n",
            "rating                                                 NaN\n",
            "genre                                               Action\n",
            "year                                                  1980\n",
            "released                     June 20, 1980 (United States)\n",
            "score                                                  8.7\n",
            "votes                                            1200000.0\n",
            "director                                    Irvin Kershner\n",
            "writer                                      Leigh Brackett\n",
            "star                                           Mark Hamill\n",
            "country                                      United States\n",
            "budget                                          18000000.0\n",
            "gross                                          538375067.0\n",
            "company                                          Lucasfilm\n",
            "runtime                                              124.0\n",
            "Name: 2, dtype: object\n",
            "\n",
            "United Kingdom\n",
            "\n",
            "United States\n"
          ]
        }
      ]
    },
    {
      "cell_type": "markdown",
      "source": [
        ":**INDEX ALIGNMENT & OPERATIONS BETWEEN SERIES AND DATAFRAMES**"
      ],
      "metadata": {
        "id": "cbwJfoYlIoFR"
      }
    },
    {
      "cell_type": "code",
      "source": [
        "# Series: average value of each numeric column\n",
        "column_means = df[['score', 'votes', 'budget', 'gross', 'runtime']].mean()\n",
        "print(\"Column-wise Means:\\n\", column_means)\n",
        "\n",
        "# Subset DataFrame with numeric columns\n",
        "numeric_df = df[['score', 'votes', 'budget', 'gross', 'runtime']]\n",
        "\n",
        "# Subtract column means from each row\n",
        "centered_df = numeric_df - column_means\n",
        "print(\"\\nCentered Data (each value - column mean):\\n\", centered_df.head())\n",
        "\n",
        "# Series with a value per row\n",
        "runtime_series = df['runtime']\n",
        "\n",
        "# Broadcast row-wise operation: add runtime_series to each column\n",
        "added_runtime_df = numeric_df.add(runtime_series, axis=0)  # aligns on row index\n",
        "print(\"\\nEach numeric column + runtime:\\n\", added_runtime_df.head())\n",
        "\n",
        "# Misaligned Series — auto aligns only matching indexes\n",
        "limited_series = pd.Series([100, 200, 300], index=[0, 1, 2])\n",
        "misaligned_added = df['runtime'] + limited_series\n",
        "print(\"\\nAddition with partially matching indexes (index alignment):\\n\", misaligned_added.head())\n"
      ],
      "metadata": {
        "colab": {
          "base_uri": "https://localhost:8080/"
        },
        "id": "rIJEwWkjIyJs",
        "outputId": "95f0e1bf-aa39-4fc7-c199-b31c80244c15"
      },
      "execution_count": null,
      "outputs": [
        {
          "output_type": "stream",
          "name": "stdout",
          "text": [
            "Column-wise Means:\n",
            " score      6.390411e+00\n",
            "votes      8.810850e+04\n",
            "budget     3.131756e+07\n",
            "gross      7.850054e+07\n",
            "runtime    1.072616e+02\n",
            "dtype: float64\n",
            "\n",
            "Centered Data (each value - column mean):\n",
            "       score         votes        budget         gross    runtime\n",
            "0  2.009589  8.388915e+05 -1.231756e+07 -3.150177e+07  38.738387\n",
            "1 -0.590411 -2.310850e+04 -2.681756e+07 -1.964744e+07  -3.261613\n",
            "2  2.309589  1.111891e+06 -1.331756e+07  4.598745e+08  16.738387\n",
            "3  1.309589  1.328915e+05 -2.781756e+07  4.952998e+06 -19.261613\n",
            "4  0.909589  1.989150e+04 -2.531756e+07 -3.865420e+07  -9.261613\n",
            "\n",
            "Each numeric column + runtime:\n",
            "    score      votes      budget        gross  runtime\n",
            "0  154.4   927146.0  19000146.0   46998918.0    292.0\n",
            "1  109.8    65104.0   4500104.0   58853210.0    208.0\n",
            "2  132.7  1200124.0  18000124.0  538375191.0    248.0\n",
            "3   95.7   221088.0   3500088.0   83453627.0    176.0\n",
            "4  105.3   108098.0   6000098.0   39846442.0    196.0\n",
            "\n",
            "Addition with partially matching indexes (index alignment):\n",
            " 0    246.0\n",
            "1    304.0\n",
            "2    424.0\n",
            "3      NaN\n",
            "4      NaN\n",
            "dtype: float64\n"
          ]
        }
      ]
    },
    {
      "cell_type": "markdown",
      "source": [],
      "metadata": {
        "id": "fiJU8EcBIr1a"
      }
    },
    {
      "cell_type": "markdown",
      "source": [
        "**Handling missing data**"
      ],
      "metadata": {
        "id": "thVwVjByJlDN"
      }
    },
    {
      "cell_type": "code",
      "source": [
        "# Check nulls\n",
        "print(df.isnull().sum())\n",
        "print(\"Total nulls:\", df.isnull().sum().sum())\n",
        "\n",
        "# View rows with any nulls\n",
        "print(df[df.isnull().any(axis=1)].head())\n",
        "\n",
        "# Specific column nulls (e.g., 'budget')\n",
        "print(df[df['budget'].isnull()].head())\n",
        "\n",
        "# Drop null rows\n",
        "df_dropped = df.dropna()\n",
        "print(\"Shape after dropna:\", df_dropped.shape)\n",
        "\n",
        "# Fill 'budget' with mean\n",
        "df_budget_filled = df.copy()\n",
        "df_budget_filled['budget'] = df_budget_filled['budget'].fillna(df['budget'].mean())\n",
        "print(df_budget_filled['budget'].head())\n",
        "\n",
        "# Fill 'country' with mode\n",
        "df_country_filled = df.copy()\n",
        "df_country_filled['country'] = df_country_filled['country'].fillna(df['country'].mode()[0])\n",
        "print(df_country_filled['country'].head())\n",
        "\n",
        "# Backward fill 'company'\n",
        "df_bfill = df.copy()\n",
        "df_bfill['company'] = df_bfill['company'].fillna(method='bfill')\n",
        "print(df_bfill['company'].head())\n"
      ],
      "metadata": {
        "colab": {
          "base_uri": "https://localhost:8080/"
        },
        "id": "h3QyMgIfJtin",
        "outputId": "9e731e94-0858-4a6a-dc3c-870ad38d1921"
      },
      "execution_count": null,
      "outputs": [
        {
          "output_type": "stream",
          "name": "stdout",
          "text": [
            "name           0\n",
            "rating      7668\n",
            "genre          0\n",
            "year           0\n",
            "released       2\n",
            "score          0\n",
            "votes          3\n",
            "director       0\n",
            "writer         3\n",
            "star           1\n",
            "country        3\n",
            "budget         0\n",
            "gross          0\n",
            "company       17\n",
            "runtime        4\n",
            "dtype: int64\n",
            "Total nulls: 7701\n",
            "                                             name  rating      genre  year  \\\n",
            "0                                     The Shining     NaN      Drama  1980   \n",
            "1                                 The Blue Lagoon     NaN  Adventure  1980   \n",
            "2  Star Wars: Episode V - The Empire Strikes Back     NaN     Action  1980   \n",
            "3                                       Airplane!     NaN     Comedy  1980   \n",
            "4                                      Caddyshack     NaN     Comedy  1980   \n",
            "\n",
            "                        released  score      votes         director  \\\n",
            "0  June 13, 1980 (United States)    8.4   927000.0  Stanley Kubrick   \n",
            "1   July 2, 1980 (United States)    5.8    65000.0   Randal Kleiser   \n",
            "2  June 20, 1980 (United States)    8.7  1200000.0   Irvin Kershner   \n",
            "3   July 2, 1980 (United States)    7.7   221000.0     Jim Abrahams   \n",
            "4  July 25, 1980 (United States)    7.3   108000.0     Harold Ramis   \n",
            "\n",
            "                    writer            star         country      budget  \\\n",
            "0             Stephen King  Jack Nicholson  United Kingdom  19000000.0   \n",
            "1  Henry De Vere Stacpoole  Brooke Shields   United States   4500000.0   \n",
            "2           Leigh Brackett     Mark Hamill   United States  18000000.0   \n",
            "3             Jim Abrahams     Robert Hays   United States   3500000.0   \n",
            "4       Brian Doyle-Murray     Chevy Chase   United States   6000000.0   \n",
            "\n",
            "         gross             company  runtime  \n",
            "0   46998772.0        Warner Bros.    146.0  \n",
            "1   58853106.0   Columbia Pictures    104.0  \n",
            "2  538375067.0           Lucasfilm    124.0  \n",
            "3   83453539.0  Paramount Pictures     88.0  \n",
            "4   39846344.0      Orion Pictures     98.0  \n",
            "Empty DataFrame\n",
            "Columns: [name, rating, genre, year, released, score, votes, director, writer, star, country, budget, gross, company, runtime]\n",
            "Index: []\n",
            "Shape after dropna: (0, 15)\n",
            "0    19000000.0\n",
            "1     4500000.0\n",
            "2    18000000.0\n",
            "3     3500000.0\n",
            "4     6000000.0\n",
            "Name: budget, dtype: float64\n",
            "0    United Kingdom\n",
            "1     United States\n",
            "2     United States\n",
            "3     United States\n",
            "4     United States\n",
            "Name: country, dtype: object\n",
            "0          Warner Bros.\n",
            "1     Columbia Pictures\n",
            "2             Lucasfilm\n",
            "3    Paramount Pictures\n",
            "4        Orion Pictures\n",
            "Name: company, dtype: object\n"
          ]
        },
        {
          "output_type": "stream",
          "name": "stderr",
          "text": [
            "<ipython-input-51-69c516b4f0e1>:27: FutureWarning: Series.fillna with 'method' is deprecated and will raise in a future version. Use obj.ffill() or obj.bfill() instead.\n",
            "  df_bfill['company'] = df_bfill['company'].fillna(method='bfill')\n"
          ]
        }
      ]
    },
    {
      "cell_type": "markdown",
      "source": [
        "**Hierarchical Indexing**"
      ],
      "metadata": {
        "id": "VG1Xf9CXJ-1d"
      }
    },
    {
      "cell_type": "code",
      "source": [
        "# Setting MultiIndex\n",
        "df_multi = df.set_index(['country', 'genre'])\n",
        "print(\"MultiIndex DataFrame:\\n\", df_multi.head())\n",
        "\n",
        "# Accessing rows using a tuple\n",
        "print(\"\\nAccessing rows for ('United Kingdom', 'Drama'):\\n\", df_multi.loc[('United Kingdom', 'Drama')].head())\n",
        "\n",
        "# Resetting index back to default integer index\n",
        "df_reset = df_multi.reset_index()\n",
        "print(\"\\nReset index:\\n\", df_reset.head())\n",
        "\n",
        "# Create custom MultiIndex DataFrame\n",
        "multi_index = pd.MultiIndex.from_tuples(\n",
        "    [('USA', 'Action'), ('UK', 'Drama'), ('India', 'Romance')],\n",
        "    names=['country', 'genre']\n",
        ")\n",
        "df_custom = pd.DataFrame({'score': [8.7, 8.3, 7.6]}, index=multi_index)\n",
        "print(\"\\nCustom MultiIndex DataFrame:\\n\", df_custom)\n",
        "\n",
        "# Swap index levels\n",
        "df_swapped = df_multi.swaplevel()\n",
        "print(\"\\nSwapped index levels:\\n\", df_swapped.head())\n",
        "\n",
        "# Sort by index\n",
        "df_sorted = df_multi.sort_index()\n",
        "print(\"\\nSorted MultiIndex DataFrame:\\n\", df_sorted.head())\n"
      ],
      "metadata": {
        "colab": {
          "base_uri": "https://localhost:8080/"
        },
        "id": "H9qX3RtCKDXO",
        "outputId": "c17f718c-9063-4c1f-e39a-45d4b0247e20"
      },
      "execution_count": null,
      "outputs": [
        {
          "output_type": "stream",
          "name": "stdout",
          "text": [
            "MultiIndex DataFrame:\n",
            "                                                                     name  \\\n",
            "country        genre                                                       \n",
            "United Kingdom Drama                                         The Shining   \n",
            "United States  Adventure                                 The Blue Lagoon   \n",
            "               Action     Star Wars: Episode V - The Empire Strikes Back   \n",
            "               Comedy                                          Airplane!   \n",
            "               Comedy                                         Caddyshack   \n",
            "\n",
            "                          rating  year                       released  score  \\\n",
            "country        genre                                                           \n",
            "United Kingdom Drama         NaN  1980  June 13, 1980 (United States)    8.4   \n",
            "United States  Adventure     NaN  1980   July 2, 1980 (United States)    5.8   \n",
            "               Action        NaN  1980  June 20, 1980 (United States)    8.7   \n",
            "               Comedy        NaN  1980   July 2, 1980 (United States)    7.7   \n",
            "               Comedy        NaN  1980  July 25, 1980 (United States)    7.3   \n",
            "\n",
            "                              votes         director                   writer  \\\n",
            "country        genre                                                            \n",
            "United Kingdom Drama       927000.0  Stanley Kubrick             Stephen King   \n",
            "United States  Adventure    65000.0   Randal Kleiser  Henry De Vere Stacpoole   \n",
            "               Action     1200000.0   Irvin Kershner           Leigh Brackett   \n",
            "               Comedy      221000.0     Jim Abrahams             Jim Abrahams   \n",
            "               Comedy      108000.0     Harold Ramis       Brian Doyle-Murray   \n",
            "\n",
            "                                    star      budget        gross  \\\n",
            "country        genre                                                \n",
            "United Kingdom Drama      Jack Nicholson  19000000.0   46998772.0   \n",
            "United States  Adventure  Brooke Shields   4500000.0   58853106.0   \n",
            "               Action        Mark Hamill  18000000.0  538375067.0   \n",
            "               Comedy        Robert Hays   3500000.0   83453539.0   \n",
            "               Comedy        Chevy Chase   6000000.0   39846344.0   \n",
            "\n",
            "                                     company  runtime  \n",
            "country        genre                                   \n",
            "United Kingdom Drama            Warner Bros.    146.0  \n",
            "United States  Adventure   Columbia Pictures    104.0  \n",
            "               Action              Lucasfilm    124.0  \n",
            "               Comedy     Paramount Pictures     88.0  \n",
            "               Comedy         Orion Pictures     98.0  \n",
            "\n",
            "Accessing rows for ('United Kingdom', 'Drama'):\n",
            "                                                name  rating  year  \\\n",
            "country        genre                                                \n",
            "United Kingdom Drama                    The Shining     NaN  1980   \n",
            "               Drama                        Babylon     NaN  1980   \n",
            "               Drama                        Victory     NaN  1981   \n",
            "               Drama  The French Lieutenant's Woman     NaN  1981   \n",
            "               Drama                        Quartet     NaN  1981   \n",
            "\n",
            "                                              released  score     votes  \\\n",
            "country        genre                                                      \n",
            "United Kingdom Drama     June 13, 1980 (United States)    8.4  927000.0   \n",
            "               Drama    November 1980 (United Kingdom)    7.4    1300.0   \n",
            "               Drama     July 31, 1981 (United States)    6.7   29000.0   \n",
            "               Drama  October 16, 1981 (United States)    7.0   13000.0   \n",
            "               Drama  October 25, 1981 (United States)    6.3    1300.0   \n",
            "\n",
            "                             director          writer             star  \\\n",
            "country        genre                                                     \n",
            "United Kingdom Drama  Stanley Kubrick    Stephen King   Jack Nicholson   \n",
            "               Drama     Franco Rosso    Franco Rosso  David N. Haynes   \n",
            "               Drama      John Huston  Yabo Yablonsky    Michael Caine   \n",
            "               Drama      Karel Reisz     John Fowles     Meryl Streep   \n",
            "               Drama      James Ivory       Jean Rhys  Isabelle Adjani   \n",
            "\n",
            "                          budget       gross                     company  \\\n",
            "country        genre                                                       \n",
            "United Kingdom Drama  19000000.0  46998772.0                Warner Bros.   \n",
            "               Drama  20500000.0    109749.0             Diversity Music   \n",
            "               Drama  10000000.0  10853418.0  Lorimar Film Entertainment   \n",
            "               Drama  20500000.0  26890068.0               Juniper Films   \n",
            "               Drama  20500000.0     12042.0  Merchant Ivory Productions   \n",
            "\n",
            "                      runtime  \n",
            "country        genre           \n",
            "United Kingdom Drama    146.0  \n",
            "               Drama     95.0  \n",
            "               Drama    116.0  \n",
            "               Drama    124.0  \n",
            "               Drama    101.0  \n",
            "\n",
            "Reset index:\n",
            "           country      genre                                            name  \\\n",
            "0  United Kingdom      Drama                                     The Shining   \n",
            "1   United States  Adventure                                 The Blue Lagoon   \n",
            "2   United States     Action  Star Wars: Episode V - The Empire Strikes Back   \n",
            "3   United States     Comedy                                       Airplane!   \n",
            "4   United States     Comedy                                      Caddyshack   \n",
            "\n",
            "   rating  year                       released  score      votes  \\\n",
            "0     NaN  1980  June 13, 1980 (United States)    8.4   927000.0   \n",
            "1     NaN  1980   July 2, 1980 (United States)    5.8    65000.0   \n",
            "2     NaN  1980  June 20, 1980 (United States)    8.7  1200000.0   \n",
            "3     NaN  1980   July 2, 1980 (United States)    7.7   221000.0   \n",
            "4     NaN  1980  July 25, 1980 (United States)    7.3   108000.0   \n",
            "\n",
            "          director                   writer            star      budget  \\\n",
            "0  Stanley Kubrick             Stephen King  Jack Nicholson  19000000.0   \n",
            "1   Randal Kleiser  Henry De Vere Stacpoole  Brooke Shields   4500000.0   \n",
            "2   Irvin Kershner           Leigh Brackett     Mark Hamill  18000000.0   \n",
            "3     Jim Abrahams             Jim Abrahams     Robert Hays   3500000.0   \n",
            "4     Harold Ramis       Brian Doyle-Murray     Chevy Chase   6000000.0   \n",
            "\n",
            "         gross             company  runtime  \n",
            "0   46998772.0        Warner Bros.    146.0  \n",
            "1   58853106.0   Columbia Pictures    104.0  \n",
            "2  538375067.0           Lucasfilm    124.0  \n",
            "3   83453539.0  Paramount Pictures     88.0  \n",
            "4   39846344.0      Orion Pictures     98.0  \n",
            "\n",
            "Custom MultiIndex DataFrame:\n",
            "                  score\n",
            "country genre         \n",
            "USA     Action     8.7\n",
            "UK      Drama      8.3\n",
            "India   Romance    7.6\n",
            "\n",
            "Swapped index levels:\n",
            "                                                                     name  \\\n",
            "genre     country                                                          \n",
            "Drama     United Kingdom                                     The Shining   \n",
            "Adventure United States                                  The Blue Lagoon   \n",
            "Action    United States   Star Wars: Episode V - The Empire Strikes Back   \n",
            "Comedy    United States                                        Airplane!   \n",
            "          United States                                       Caddyshack   \n",
            "\n",
            "                          rating  year                       released  score  \\\n",
            "genre     country                                                              \n",
            "Drama     United Kingdom     NaN  1980  June 13, 1980 (United States)    8.4   \n",
            "Adventure United States      NaN  1980   July 2, 1980 (United States)    5.8   \n",
            "Action    United States      NaN  1980  June 20, 1980 (United States)    8.7   \n",
            "Comedy    United States      NaN  1980   July 2, 1980 (United States)    7.7   \n",
            "          United States      NaN  1980  July 25, 1980 (United States)    7.3   \n",
            "\n",
            "                              votes         director                   writer  \\\n",
            "genre     country                                                               \n",
            "Drama     United Kingdom   927000.0  Stanley Kubrick             Stephen King   \n",
            "Adventure United States     65000.0   Randal Kleiser  Henry De Vere Stacpoole   \n",
            "Action    United States   1200000.0   Irvin Kershner           Leigh Brackett   \n",
            "Comedy    United States    221000.0     Jim Abrahams             Jim Abrahams   \n",
            "          United States    108000.0     Harold Ramis       Brian Doyle-Murray   \n",
            "\n",
            "                                    star      budget        gross  \\\n",
            "genre     country                                                   \n",
            "Drama     United Kingdom  Jack Nicholson  19000000.0   46998772.0   \n",
            "Adventure United States   Brooke Shields   4500000.0   58853106.0   \n",
            "Action    United States      Mark Hamill  18000000.0  538375067.0   \n",
            "Comedy    United States      Robert Hays   3500000.0   83453539.0   \n",
            "          United States      Chevy Chase   6000000.0   39846344.0   \n",
            "\n",
            "                                     company  runtime  \n",
            "genre     country                                      \n",
            "Drama     United Kingdom        Warner Bros.    146.0  \n",
            "Adventure United States    Columbia Pictures    104.0  \n",
            "Action    United States            Lucasfilm    124.0  \n",
            "Comedy    United States   Paramount Pictures     88.0  \n",
            "          United States       Orion Pictures     98.0  \n",
            "\n",
            "Sorted MultiIndex DataFrame:\n",
            "                                        name  rating  year  \\\n",
            "country   genre                                             \n",
            "Argentina Adventure  The Motorcycle Diaries     NaN  2004   \n",
            "          Comedy                 La Ciénaga     NaN  2001   \n",
            "          Comedy                 Wild Tales     NaN  2014   \n",
            "          Crime                 Nine Queens     NaN  2000   \n",
            "          Drama          The Official Story     NaN  1985   \n",
            "\n",
            "                                             released  score     votes  \\\n",
            "country   genre                                                          \n",
            "Argentina Adventure  October 15, 2004 (United States)    7.8   98000.0   \n",
            "          Comedy           April 12, 2001 (Argentina)    7.1    6100.0   \n",
            "          Comedy          August 21, 2014 (Argentina)    8.1  184000.0   \n",
            "          Crime           August 31, 2000 (Argentina)    7.9   51000.0   \n",
            "          Drama      November 8, 1985 (United States)    7.8    8800.0   \n",
            "\n",
            "                             director                 writer  \\\n",
            "country   genre                                                \n",
            "Argentina Adventure     Walter Salles  Ernesto 'Che' Guevara   \n",
            "          Comedy      Lucrecia Martel        Lucrecia Martel   \n",
            "          Comedy       Damián Szifron        Germán Servidio   \n",
            "          Crime      Fabián Bielinsky       Fabián Bielinsky   \n",
            "          Drama           Luis Puenzo           Aída Bortnik   \n",
            "\n",
            "                                   star      budget       gross  \\\n",
            "country   genre                                                   \n",
            "Argentina Adventure  Gael García Bernal  20500000.0  57663711.0   \n",
            "          Comedy         Mercedes Morán  20500000.0    270811.0   \n",
            "          Comedy      Darío Grandinetti   3300000.0  30642704.0   \n",
            "          Crime           Ricardo Darín   1500000.0  12413888.0   \n",
            "          Drama          Norma Aleandro  20500000.0     69832.0   \n",
            "\n",
            "                                                  company  runtime  \n",
            "country   genre                                                     \n",
            "Argentina Adventure                              FilmFour    126.0  \n",
            "          Comedy                                 4k Films    103.0  \n",
            "          Comedy                    Kramer & Sigman Films    122.0  \n",
            "          Crime                                  FX Sound    114.0  \n",
            "          Drama      Historias Cinematograficas Cinemania    112.0  \n"
          ]
        },
        {
          "output_type": "stream",
          "name": "stderr",
          "text": [
            "<ipython-input-52-15066dede5bd>:6: PerformanceWarning: indexing past lexsort depth may impact performance.\n",
            "  print(\"\\nAccessing rows for ('United Kingdom', 'Drama'):\\n\", df_multi.loc[('United Kingdom', 'Drama')].head())\n"
          ]
        }
      ]
    },
    {
      "cell_type": "markdown",
      "source": [
        "### **Pivot Tables**"
      ],
      "metadata": {
        "id": "t7bjR1qEK3E1"
      }
    },
    {
      "cell_type": "code",
      "source": [
        "pivot1 = pd.pivot_table(df, index='country', values='score', aggfunc='mean')\n",
        "print(\"Pivot Table 1: Average Score by Country\\n\", pivot1)\n",
        "\n",
        "# Compare with groupby\n",
        "group1 = df.groupby('country')['score'].mean()\n",
        "print(\"\\nGroupBy Result:\\n\", group1)\n",
        "\n"
      ],
      "metadata": {
        "colab": {
          "base_uri": "https://localhost:8080/"
        },
        "id": "abzwDDp4LB26",
        "outputId": "7ac584f8-fc3c-4e0c-c041-783356f45b09"
      },
      "execution_count": null,
      "outputs": [
        {
          "output_type": "stream",
          "name": "stdout",
          "text": [
            "Pivot Table 1: Average Score by Country\n",
            "                                    score\n",
            "country                                 \n",
            "Argentina                       7.687500\n",
            "Aruba                           4.900000\n",
            "Australia                       6.682609\n",
            "Austria                         7.020000\n",
            "Belgium                         7.137500\n",
            "Brazil                          7.700000\n",
            "Canada                          6.134737\n",
            "Chile                           6.600000\n",
            "China                           6.702500\n",
            "Colombia                        7.400000\n",
            "Czech Republic                  6.075000\n",
            "Denmark                         7.100000\n",
            "Federal Republic of Yugoslavia  8.100000\n",
            "Finland                         6.033333\n",
            "France                          6.743728\n",
            "Germany                         6.436752\n",
            "Greece                          7.400000\n",
            "Hong Kong                       6.708889\n",
            "Hungary                         6.983333\n",
            "Iceland                         6.400000\n",
            "India                           7.240323\n",
            "Indonesia                       7.800000\n",
            "Iran                            7.970000\n",
            "Ireland                         6.932558\n",
            "Israel                          6.700000\n",
            "Italy                           6.704918\n",
            "Jamaica                         6.200000\n",
            "Japan                           7.224691\n",
            "Kenya                           7.400000\n",
            "Lebanon                         8.400000\n",
            "Libya                           8.300000\n",
            "Malta                           6.500000\n",
            "Mexico                          6.345455\n",
            "Netherlands                     6.666667\n",
            "New Zealand                     7.420000\n",
            "Norway                          6.941667\n",
            "Panama                          6.600000\n",
            "Philippines                     6.333333\n",
            "Poland                          7.275000\n",
            "Portugal                        6.350000\n",
            "Republic of Macedonia           8.000000\n",
            "Romania                         7.900000\n",
            "Russia                          7.350000\n",
            "Serbia                          6.100000\n",
            "South Africa                    6.487500\n",
            "South Korea                     7.162857\n",
            "Soviet Union                    8.200000\n",
            "Spain                           7.085106\n",
            "Sweden                          7.328000\n",
            "Switzerland                     7.130000\n",
            "Taiwan                          7.742857\n",
            "Thailand                        6.733333\n",
            "Turkey                          7.866667\n",
            "United Arab Emirates            6.000000\n",
            "United Kingdom                  6.642770\n",
            "United States                   6.257145\n",
            "Vietnam                         6.850000\n",
            "West Germany                    7.175000\n",
            "Yugoslavia                      7.220000\n",
            "\n",
            "GroupBy Result:\n",
            " country\n",
            "Argentina                         7.687500\n",
            "Aruba                             4.900000\n",
            "Australia                         6.682609\n",
            "Austria                           7.020000\n",
            "Belgium                           7.137500\n",
            "Brazil                            7.700000\n",
            "Canada                            6.134737\n",
            "Chile                             6.600000\n",
            "China                             6.702500\n",
            "Colombia                          7.400000\n",
            "Czech Republic                    6.075000\n",
            "Denmark                           7.100000\n",
            "Federal Republic of Yugoslavia    8.100000\n",
            "Finland                           6.033333\n",
            "France                            6.743728\n",
            "Germany                           6.436752\n",
            "Greece                            7.400000\n",
            "Hong Kong                         6.708889\n",
            "Hungary                           6.983333\n",
            "Iceland                           6.400000\n",
            "India                             7.240323\n",
            "Indonesia                         7.800000\n",
            "Iran                              7.970000\n",
            "Ireland                           6.932558\n",
            "Israel                            6.700000\n",
            "Italy                             6.704918\n",
            "Jamaica                           6.200000\n",
            "Japan                             7.224691\n",
            "Kenya                             7.400000\n",
            "Lebanon                           8.400000\n",
            "Libya                             8.300000\n",
            "Malta                             6.500000\n",
            "Mexico                            6.345455\n",
            "Netherlands                       6.666667\n",
            "New Zealand                       7.420000\n",
            "Norway                            6.941667\n",
            "Panama                            6.600000\n",
            "Philippines                       6.333333\n",
            "Poland                            7.275000\n",
            "Portugal                          6.350000\n",
            "Republic of Macedonia             8.000000\n",
            "Romania                           7.900000\n",
            "Russia                            7.350000\n",
            "Serbia                            6.100000\n",
            "South Africa                      6.487500\n",
            "South Korea                       7.162857\n",
            "Soviet Union                      8.200000\n",
            "Spain                             7.085106\n",
            "Sweden                            7.328000\n",
            "Switzerland                       7.130000\n",
            "Taiwan                            7.742857\n",
            "Thailand                          6.733333\n",
            "Turkey                            7.866667\n",
            "United Arab Emirates              6.000000\n",
            "United Kingdom                    6.642770\n",
            "United States                     6.257145\n",
            "Vietnam                           6.850000\n",
            "West Germany                      7.175000\n",
            "Yugoslavia                        7.220000\n",
            "Name: score, dtype: float64\n"
          ]
        }
      ]
    },
    {
      "cell_type": "code",
      "source": [
        "pivot2 = pd.pivot_table(df, index='country', columns='genre', values='name', aggfunc='count')\n",
        "print(\"\\nPivot Table 2: Movie Count by Country and Genre\\n\", pivot2)\n",
        "\n",
        "# Compare with groupby\n",
        "group2 = df.groupby(['country', 'genre'])['name'].count().unstack()\n",
        "print(\"\\nGroupBy Result:\\n\", group2)\n"
      ],
      "metadata": {
        "colab": {
          "base_uri": "https://localhost:8080/"
        },
        "id": "T_1eD6wiLEwN",
        "outputId": "23ed4b04-ab1a-4343-dc97-ea4cf3d394fe"
      },
      "execution_count": null,
      "outputs": [
        {
          "output_type": "stream",
          "name": "stdout",
          "text": [
            "\n",
            "Pivot Table 2: Movie Count by Country and Genre\n",
            " genre                           Action  Adventure  Animation  Biography  \\\n",
            "country                                                                   \n",
            "Argentina                          NaN        1.0        NaN        NaN   \n",
            "Aruba                              1.0        NaN        NaN        NaN   \n",
            "Australia                         19.0       10.0        2.0        7.0   \n",
            "Austria                            1.0        NaN        NaN        NaN   \n",
            "Belgium                            1.0        NaN        NaN        1.0   \n",
            "Brazil                             1.0        NaN        NaN        NaN   \n",
            "Canada                            30.0       10.0        8.0        8.0   \n",
            "Chile                              NaN        NaN        NaN        1.0   \n",
            "China                             20.0        3.0        4.0        2.0   \n",
            "Colombia                           NaN        NaN        NaN        NaN   \n",
            "Czech Republic                     3.0        1.0        NaN        2.0   \n",
            "Denmark                            4.0        NaN        1.0        2.0   \n",
            "Federal Republic of Yugoslavia     NaN        NaN        NaN        NaN   \n",
            "Finland                            1.0        NaN        2.0        NaN   \n",
            "France                            47.0       17.0       10.0       19.0   \n",
            "Germany                           28.0        9.0        3.0       12.0   \n",
            "Greece                             NaN        NaN        NaN        NaN   \n",
            "Hong Kong                         31.0        1.0        3.0        NaN   \n",
            "Hungary                            NaN        1.0        NaN        NaN   \n",
            "Iceland                            NaN        1.0        NaN        NaN   \n",
            "India                             21.0        NaN        NaN        2.0   \n",
            "Indonesia                          2.0        NaN        NaN        NaN   \n",
            "Iran                               NaN        NaN        NaN        1.0   \n",
            "Ireland                            1.0        1.0        7.0        6.0   \n",
            "Israel                             NaN        NaN        2.0        NaN   \n",
            "Italy                              3.0        4.0        NaN        3.0   \n",
            "Jamaica                            NaN        NaN        NaN        NaN   \n",
            "Japan                             17.0        2.0       39.0        2.0   \n",
            "Kenya                              NaN        NaN        NaN        1.0   \n",
            "Lebanon                            NaN        NaN        NaN        NaN   \n",
            "Libya                              NaN        NaN        NaN        1.0   \n",
            "Malta                              NaN        NaN        NaN        NaN   \n",
            "Mexico                             5.0        1.0        NaN        1.0   \n",
            "Netherlands                        NaN        1.0        NaN        NaN   \n",
            "New Zealand                        5.0        6.0        NaN        3.0   \n",
            "Norway                             4.0        NaN        NaN        NaN   \n",
            "Panama                             NaN        NaN        NaN        1.0   \n",
            "Philippines                        1.0        NaN        NaN        NaN   \n",
            "Poland                             NaN        NaN        1.0        NaN   \n",
            "Portugal                           NaN        NaN        NaN        NaN   \n",
            "Republic of Macedonia              NaN        NaN        NaN        NaN   \n",
            "Romania                            NaN        NaN        NaN        NaN   \n",
            "Russia                             3.0        NaN        NaN        NaN   \n",
            "Serbia                             NaN        NaN        NaN        NaN   \n",
            "South Africa                       3.0        1.0        NaN        NaN   \n",
            "South Korea                       19.0        NaN        1.0        NaN   \n",
            "Soviet Union                       NaN        NaN        NaN        NaN   \n",
            "Spain                              2.0        2.0        2.0        1.0   \n",
            "Sweden                             2.0        1.0        NaN        3.0   \n",
            "Switzerland                        1.0        NaN        NaN        1.0   \n",
            "Taiwan                             1.0        NaN        NaN        NaN   \n",
            "Thailand                           4.0        NaN        NaN        NaN   \n",
            "Turkey                             NaN        NaN        NaN        NaN   \n",
            "United Arab Emirates               NaN        NaN        NaN        NaN   \n",
            "United Kingdom                   125.0       75.0       16.0      110.0   \n",
            "United States                   1298.0      277.0      237.0      252.0   \n",
            "Vietnam                            1.0        NaN        NaN        NaN   \n",
            "West Germany                       NaN        2.0        NaN        NaN   \n",
            "Yugoslavia                         NaN        NaN        NaN        1.0   \n",
            "\n",
            "genre                           Comedy  Crime  Drama  Family  Fantasy  \\\n",
            "country                                                                 \n",
            "Argentina                          2.0    1.0    4.0     NaN      NaN   \n",
            "Aruba                              NaN    NaN    NaN     NaN      NaN   \n",
            "Australia                         20.0    5.0   23.0     NaN      1.0   \n",
            "Austria                            NaN    1.0    2.0     NaN      NaN   \n",
            "Belgium                            1.0    NaN    4.0     NaN      NaN   \n",
            "Brazil                             NaN    1.0    4.0     NaN      NaN   \n",
            "Canada                            39.0   13.0   51.0     1.0      5.0   \n",
            "Chile                              1.0    NaN    NaN     NaN      NaN   \n",
            "China                              1.0    NaN   10.0     NaN      NaN   \n",
            "Colombia                           NaN    1.0    NaN     NaN      NaN   \n",
            "Czech Republic                     NaN    1.0    1.0     NaN      NaN   \n",
            "Denmark                            4.0    6.0   15.0     NaN      NaN   \n",
            "Federal Republic of Yugoslavia     2.0    NaN    NaN     NaN      NaN   \n",
            "Finland                            NaN    NaN    NaN     NaN      NaN   \n",
            "France                            52.0   25.0   98.0     NaN      1.0   \n",
            "Germany                           28.0   10.0   26.0     NaN      NaN   \n",
            "Greece                             NaN    NaN    2.0     NaN      NaN   \n",
            "Hong Kong                          3.0    3.0    3.0     NaN      NaN   \n",
            "Hungary                            3.0    NaN    2.0     NaN      NaN   \n",
            "Iceland                            NaN    NaN    1.0     NaN      NaN   \n",
            "India                             14.0    5.0   19.0     NaN      NaN   \n",
            "Indonesia                          NaN    NaN    NaN     NaN      NaN   \n",
            "Iran                               NaN    NaN    9.0     NaN      NaN   \n",
            "Ireland                           13.0    1.0   14.0     NaN      NaN   \n",
            "Israel                             NaN    NaN    3.0     NaN      NaN   \n",
            "Italy                             18.0    7.0   21.0     NaN      1.0   \n",
            "Jamaica                            NaN    1.0    NaN     NaN      NaN   \n",
            "Japan                              3.0    6.0    9.0     NaN      NaN   \n",
            "Kenya                              NaN    NaN    NaN     NaN      NaN   \n",
            "Lebanon                            NaN    NaN    1.0     NaN      NaN   \n",
            "Libya                              NaN    NaN    NaN     NaN      NaN   \n",
            "Malta                              NaN    1.0    NaN     NaN      NaN   \n",
            "Mexico                             4.0    1.0    7.0     NaN      1.0   \n",
            "Netherlands                        1.0    2.0    6.0     NaN      NaN   \n",
            "New Zealand                        7.0    1.0    3.0     NaN      NaN   \n",
            "Norway                             2.0    1.0    5.0     NaN      NaN   \n",
            "Panama                             NaN    NaN    NaN     NaN      NaN   \n",
            "Philippines                        NaN    NaN    2.0     NaN      NaN   \n",
            "Poland                             NaN    NaN    3.0     NaN      NaN   \n",
            "Portugal                           NaN    NaN    2.0     NaN      NaN   \n",
            "Republic of Macedonia              NaN    NaN    1.0     NaN      NaN   \n",
            "Romania                            NaN    NaN    1.0     NaN      NaN   \n",
            "Russia                             NaN    1.0    4.0     NaN      NaN   \n",
            "Serbia                             NaN    1.0    NaN     NaN      NaN   \n",
            "South Africa                       1.0    NaN    1.0     NaN      NaN   \n",
            "South Korea                        1.0    6.0    8.0     NaN      NaN   \n",
            "Soviet Union                       1.0    NaN    1.0     NaN      NaN   \n",
            "Spain                             11.0    3.0   20.0     NaN      NaN   \n",
            "Sweden                             8.0    5.0    6.0     NaN      NaN   \n",
            "Switzerland                        5.0    1.0    2.0     NaN      NaN   \n",
            "Taiwan                             2.0    1.0    3.0     NaN      NaN   \n",
            "Thailand                           NaN    NaN    2.0     NaN      NaN   \n",
            "Turkey                             NaN    1.0    2.0     NaN      NaN   \n",
            "United Arab Emirates               NaN    NaN    2.0     NaN      NaN   \n",
            "United Kingdom                   191.0   55.0  205.0     1.0      1.0   \n",
            "United States                   1803.0  380.0  902.0     9.0     34.0   \n",
            "Vietnam                            NaN    NaN    1.0     NaN      NaN   \n",
            "West Germany                       2.0    3.0    4.0     NaN      NaN   \n",
            "Yugoslavia                         2.0    NaN    2.0     NaN      NaN   \n",
            "\n",
            "genre                           History  Horror  Music  Musical  Mystery  \\\n",
            "country                                                                    \n",
            "Argentina                           NaN     NaN    NaN      NaN      NaN   \n",
            "Aruba                               NaN     NaN    NaN      NaN      NaN   \n",
            "Australia                           NaN     5.0    NaN      NaN      NaN   \n",
            "Austria                             NaN     1.0    NaN      NaN      NaN   \n",
            "Belgium                             NaN     NaN    NaN      NaN      1.0   \n",
            "Brazil                              NaN     NaN    NaN      NaN      NaN   \n",
            "Canada                              1.0    23.0    NaN      NaN      NaN   \n",
            "Chile                               NaN     NaN    NaN      NaN      NaN   \n",
            "China                               NaN     NaN    NaN      NaN      NaN   \n",
            "Colombia                            NaN     NaN    NaN      NaN      NaN   \n",
            "Czech Republic                      NaN     NaN    NaN      NaN      NaN   \n",
            "Denmark                             NaN     NaN    NaN      NaN      NaN   \n",
            "Federal Republic of Yugoslavia      NaN     NaN    NaN      NaN      NaN   \n",
            "Finland                             NaN     NaN    NaN      NaN      NaN   \n",
            "France                              NaN     3.0    1.0      NaN      2.0   \n",
            "Germany                             NaN     NaN    NaN      NaN      NaN   \n",
            "Greece                              NaN     NaN    NaN      NaN      NaN   \n",
            "Hong Kong                           NaN     1.0    NaN      NaN      NaN   \n",
            "Hungary                             NaN     NaN    NaN      NaN      NaN   \n",
            "Iceland                             NaN     NaN    NaN      NaN      NaN   \n",
            "India                               NaN     NaN    NaN      NaN      1.0   \n",
            "Indonesia                           NaN     NaN    NaN      NaN      NaN   \n",
            "Iran                                NaN     NaN    NaN      NaN      NaN   \n",
            "Ireland                             NaN     NaN    NaN      NaN      NaN   \n",
            "Israel                              NaN     NaN    NaN      NaN      NaN   \n",
            "Italy                               NaN     3.0    NaN      NaN      NaN   \n",
            "Jamaica                             NaN     NaN    NaN      NaN      NaN   \n",
            "Japan                               NaN     3.0    NaN      NaN      NaN   \n",
            "Kenya                               NaN     NaN    NaN      NaN      NaN   \n",
            "Lebanon                             NaN     NaN    NaN      NaN      NaN   \n",
            "Libya                               NaN     NaN    NaN      NaN      NaN   \n",
            "Malta                               NaN     NaN    NaN      NaN      NaN   \n",
            "Mexico                              NaN     2.0    NaN      NaN      NaN   \n",
            "Netherlands                         NaN     2.0    NaN      NaN      NaN   \n",
            "New Zealand                         NaN     NaN    NaN      NaN      NaN   \n",
            "Norway                              NaN     NaN    NaN      NaN      NaN   \n",
            "Panama                              NaN     NaN    NaN      NaN      NaN   \n",
            "Philippines                         NaN     NaN    NaN      NaN      NaN   \n",
            "Poland                              NaN     NaN    NaN      NaN      NaN   \n",
            "Portugal                            NaN     NaN    NaN      NaN      NaN   \n",
            "Republic of Macedonia               NaN     NaN    NaN      NaN      NaN   \n",
            "Romania                             NaN     NaN    NaN      NaN      NaN   \n",
            "Russia                              NaN     NaN    NaN      NaN      NaN   \n",
            "Serbia                              NaN     NaN    NaN      NaN      NaN   \n",
            "South Africa                        NaN     2.0    NaN      NaN      NaN   \n",
            "South Korea                         NaN     NaN    NaN      NaN      NaN   \n",
            "Soviet Union                        NaN     NaN    NaN      NaN      NaN   \n",
            "Spain                               NaN     6.0    NaN      NaN      NaN   \n",
            "Sweden                              NaN     NaN    NaN      NaN      NaN   \n",
            "Switzerland                         NaN     NaN    NaN      NaN      NaN   \n",
            "Taiwan                              NaN     NaN    NaN      NaN      NaN   \n",
            "Thailand                            NaN     NaN    NaN      NaN      NaN   \n",
            "Turkey                              NaN     NaN    NaN      NaN      NaN   \n",
            "United Arab Emirates                NaN     NaN    NaN      NaN      NaN   \n",
            "United Kingdom                      NaN    24.0    NaN      2.0      1.0   \n",
            "United States                       NaN   246.0    NaN      NaN     15.0   \n",
            "Vietnam                             NaN     NaN    NaN      NaN      NaN   \n",
            "West Germany                        NaN     NaN    NaN      NaN      NaN   \n",
            "Yugoslavia                          NaN     NaN    NaN      NaN      NaN   \n",
            "\n",
            "genre                           Romance  Sci-Fi  Sport  Thriller  Western  \n",
            "country                                                                    \n",
            "Argentina                           NaN     NaN    NaN       NaN      NaN  \n",
            "Aruba                               NaN     NaN    NaN       NaN      NaN  \n",
            "Australia                           NaN     NaN    NaN       NaN      NaN  \n",
            "Austria                             NaN     NaN    NaN       NaN      NaN  \n",
            "Belgium                             NaN     NaN    NaN       NaN      NaN  \n",
            "Brazil                              NaN     NaN    NaN       NaN      NaN  \n",
            "Canada                              NaN     NaN    NaN       1.0      NaN  \n",
            "Chile                               NaN     NaN    NaN       NaN      NaN  \n",
            "China                               NaN     NaN    NaN       NaN      NaN  \n",
            "Colombia                            NaN     NaN    NaN       NaN      NaN  \n",
            "Czech Republic                      NaN     NaN    NaN       NaN      NaN  \n",
            "Denmark                             NaN     NaN    NaN       NaN      NaN  \n",
            "Federal Republic of Yugoslavia      NaN     NaN    NaN       NaN      NaN  \n",
            "Finland                             NaN     NaN    NaN       NaN      NaN  \n",
            "France                              2.0     NaN    NaN       2.0      NaN  \n",
            "Germany                             1.0     NaN    NaN       NaN      NaN  \n",
            "Greece                              NaN     NaN    NaN       NaN      NaN  \n",
            "Hong Kong                           NaN     NaN    NaN       NaN      NaN  \n",
            "Hungary                             NaN     NaN    NaN       NaN      NaN  \n",
            "Iceland                             NaN     NaN    NaN       NaN      NaN  \n",
            "India                               NaN     NaN    NaN       NaN      NaN  \n",
            "Indonesia                           NaN     NaN    NaN       NaN      NaN  \n",
            "Iran                                NaN     NaN    NaN       NaN      NaN  \n",
            "Ireland                             NaN     NaN    NaN       NaN      NaN  \n",
            "Israel                              NaN     NaN    NaN       NaN      NaN  \n",
            "Italy                               NaN     NaN    NaN       NaN      1.0  \n",
            "Jamaica                             NaN     NaN    NaN       NaN      NaN  \n",
            "Japan                               NaN     NaN    NaN       NaN      NaN  \n",
            "Kenya                               NaN     NaN    NaN       NaN      NaN  \n",
            "Lebanon                             NaN     NaN    NaN       NaN      NaN  \n",
            "Libya                               NaN     NaN    NaN       NaN      NaN  \n",
            "Malta                               NaN     NaN    NaN       NaN      NaN  \n",
            "Mexico                              NaN     NaN    NaN       NaN      NaN  \n",
            "Netherlands                         NaN     NaN    NaN       NaN      NaN  \n",
            "New Zealand                         NaN     NaN    NaN       NaN      NaN  \n",
            "Norway                              NaN     NaN    NaN       NaN      NaN  \n",
            "Panama                              NaN     NaN    NaN       NaN      NaN  \n",
            "Philippines                         NaN     NaN    NaN       NaN      NaN  \n",
            "Poland                              NaN     NaN    NaN       NaN      NaN  \n",
            "Portugal                            NaN     NaN    NaN       NaN      NaN  \n",
            "Republic of Macedonia               NaN     NaN    NaN       NaN      NaN  \n",
            "Romania                             NaN     NaN    NaN       NaN      NaN  \n",
            "Russia                              NaN     NaN    NaN       NaN      NaN  \n",
            "Serbia                              NaN     NaN    NaN       NaN      NaN  \n",
            "South Africa                        NaN     NaN    NaN       NaN      NaN  \n",
            "South Korea                         NaN     NaN    NaN       NaN      NaN  \n",
            "Soviet Union                        NaN     NaN    NaN       NaN      NaN  \n",
            "Spain                               NaN     NaN    NaN       NaN      NaN  \n",
            "Sweden                              NaN     NaN    NaN       NaN      NaN  \n",
            "Switzerland                         NaN     NaN    NaN       NaN      NaN  \n",
            "Taiwan                              NaN     NaN    NaN       NaN      NaN  \n",
            "Thailand                            NaN     NaN    NaN       NaN      NaN  \n",
            "Turkey                              NaN     NaN    NaN       NaN      NaN  \n",
            "United Arab Emirates                NaN     NaN    NaN       NaN      NaN  \n",
            "United Kingdom                      4.0     2.0    NaN       3.0      1.0  \n",
            "United States                       3.0     7.0    1.0      10.0      1.0  \n",
            "Vietnam                             NaN     NaN    NaN       NaN      NaN  \n",
            "West Germany                        NaN     1.0    NaN       NaN      NaN  \n",
            "Yugoslavia                          NaN     NaN    NaN       NaN      NaN  \n",
            "\n",
            "GroupBy Result:\n",
            " genre                           Action  Adventure  Animation  Biography  \\\n",
            "country                                                                   \n",
            "Argentina                          NaN        1.0        NaN        NaN   \n",
            "Aruba                              1.0        NaN        NaN        NaN   \n",
            "Australia                         19.0       10.0        2.0        7.0   \n",
            "Austria                            1.0        NaN        NaN        NaN   \n",
            "Belgium                            1.0        NaN        NaN        1.0   \n",
            "Brazil                             1.0        NaN        NaN        NaN   \n",
            "Canada                            30.0       10.0        8.0        8.0   \n",
            "Chile                              NaN        NaN        NaN        1.0   \n",
            "China                             20.0        3.0        4.0        2.0   \n",
            "Colombia                           NaN        NaN        NaN        NaN   \n",
            "Czech Republic                     3.0        1.0        NaN        2.0   \n",
            "Denmark                            4.0        NaN        1.0        2.0   \n",
            "Federal Republic of Yugoslavia     NaN        NaN        NaN        NaN   \n",
            "Finland                            1.0        NaN        2.0        NaN   \n",
            "France                            47.0       17.0       10.0       19.0   \n",
            "Germany                           28.0        9.0        3.0       12.0   \n",
            "Greece                             NaN        NaN        NaN        NaN   \n",
            "Hong Kong                         31.0        1.0        3.0        NaN   \n",
            "Hungary                            NaN        1.0        NaN        NaN   \n",
            "Iceland                            NaN        1.0        NaN        NaN   \n",
            "India                             21.0        NaN        NaN        2.0   \n",
            "Indonesia                          2.0        NaN        NaN        NaN   \n",
            "Iran                               NaN        NaN        NaN        1.0   \n",
            "Ireland                            1.0        1.0        7.0        6.0   \n",
            "Israel                             NaN        NaN        2.0        NaN   \n",
            "Italy                              3.0        4.0        NaN        3.0   \n",
            "Jamaica                            NaN        NaN        NaN        NaN   \n",
            "Japan                             17.0        2.0       39.0        2.0   \n",
            "Kenya                              NaN        NaN        NaN        1.0   \n",
            "Lebanon                            NaN        NaN        NaN        NaN   \n",
            "Libya                              NaN        NaN        NaN        1.0   \n",
            "Malta                              NaN        NaN        NaN        NaN   \n",
            "Mexico                             5.0        1.0        NaN        1.0   \n",
            "Netherlands                        NaN        1.0        NaN        NaN   \n",
            "New Zealand                        5.0        6.0        NaN        3.0   \n",
            "Norway                             4.0        NaN        NaN        NaN   \n",
            "Panama                             NaN        NaN        NaN        1.0   \n",
            "Philippines                        1.0        NaN        NaN        NaN   \n",
            "Poland                             NaN        NaN        1.0        NaN   \n",
            "Portugal                           NaN        NaN        NaN        NaN   \n",
            "Republic of Macedonia              NaN        NaN        NaN        NaN   \n",
            "Romania                            NaN        NaN        NaN        NaN   \n",
            "Russia                             3.0        NaN        NaN        NaN   \n",
            "Serbia                             NaN        NaN        NaN        NaN   \n",
            "South Africa                       3.0        1.0        NaN        NaN   \n",
            "South Korea                       19.0        NaN        1.0        NaN   \n",
            "Soviet Union                       NaN        NaN        NaN        NaN   \n",
            "Spain                              2.0        2.0        2.0        1.0   \n",
            "Sweden                             2.0        1.0        NaN        3.0   \n",
            "Switzerland                        1.0        NaN        NaN        1.0   \n",
            "Taiwan                             1.0        NaN        NaN        NaN   \n",
            "Thailand                           4.0        NaN        NaN        NaN   \n",
            "Turkey                             NaN        NaN        NaN        NaN   \n",
            "United Arab Emirates               NaN        NaN        NaN        NaN   \n",
            "United Kingdom                   125.0       75.0       16.0      110.0   \n",
            "United States                   1298.0      277.0      237.0      252.0   \n",
            "Vietnam                            1.0        NaN        NaN        NaN   \n",
            "West Germany                       NaN        2.0        NaN        NaN   \n",
            "Yugoslavia                         NaN        NaN        NaN        1.0   \n",
            "\n",
            "genre                           Comedy  Crime  Drama  Family  Fantasy  \\\n",
            "country                                                                 \n",
            "Argentina                          2.0    1.0    4.0     NaN      NaN   \n",
            "Aruba                              NaN    NaN    NaN     NaN      NaN   \n",
            "Australia                         20.0    5.0   23.0     NaN      1.0   \n",
            "Austria                            NaN    1.0    2.0     NaN      NaN   \n",
            "Belgium                            1.0    NaN    4.0     NaN      NaN   \n",
            "Brazil                             NaN    1.0    4.0     NaN      NaN   \n",
            "Canada                            39.0   13.0   51.0     1.0      5.0   \n",
            "Chile                              1.0    NaN    NaN     NaN      NaN   \n",
            "China                              1.0    NaN   10.0     NaN      NaN   \n",
            "Colombia                           NaN    1.0    NaN     NaN      NaN   \n",
            "Czech Republic                     NaN    1.0    1.0     NaN      NaN   \n",
            "Denmark                            4.0    6.0   15.0     NaN      NaN   \n",
            "Federal Republic of Yugoslavia     2.0    NaN    NaN     NaN      NaN   \n",
            "Finland                            NaN    NaN    NaN     NaN      NaN   \n",
            "France                            52.0   25.0   98.0     NaN      1.0   \n",
            "Germany                           28.0   10.0   26.0     NaN      NaN   \n",
            "Greece                             NaN    NaN    2.0     NaN      NaN   \n",
            "Hong Kong                          3.0    3.0    3.0     NaN      NaN   \n",
            "Hungary                            3.0    NaN    2.0     NaN      NaN   \n",
            "Iceland                            NaN    NaN    1.0     NaN      NaN   \n",
            "India                             14.0    5.0   19.0     NaN      NaN   \n",
            "Indonesia                          NaN    NaN    NaN     NaN      NaN   \n",
            "Iran                               NaN    NaN    9.0     NaN      NaN   \n",
            "Ireland                           13.0    1.0   14.0     NaN      NaN   \n",
            "Israel                             NaN    NaN    3.0     NaN      NaN   \n",
            "Italy                             18.0    7.0   21.0     NaN      1.0   \n",
            "Jamaica                            NaN    1.0    NaN     NaN      NaN   \n",
            "Japan                              3.0    6.0    9.0     NaN      NaN   \n",
            "Kenya                              NaN    NaN    NaN     NaN      NaN   \n",
            "Lebanon                            NaN    NaN    1.0     NaN      NaN   \n",
            "Libya                              NaN    NaN    NaN     NaN      NaN   \n",
            "Malta                              NaN    1.0    NaN     NaN      NaN   \n",
            "Mexico                             4.0    1.0    7.0     NaN      1.0   \n",
            "Netherlands                        1.0    2.0    6.0     NaN      NaN   \n",
            "New Zealand                        7.0    1.0    3.0     NaN      NaN   \n",
            "Norway                             2.0    1.0    5.0     NaN      NaN   \n",
            "Panama                             NaN    NaN    NaN     NaN      NaN   \n",
            "Philippines                        NaN    NaN    2.0     NaN      NaN   \n",
            "Poland                             NaN    NaN    3.0     NaN      NaN   \n",
            "Portugal                           NaN    NaN    2.0     NaN      NaN   \n",
            "Republic of Macedonia              NaN    NaN    1.0     NaN      NaN   \n",
            "Romania                            NaN    NaN    1.0     NaN      NaN   \n",
            "Russia                             NaN    1.0    4.0     NaN      NaN   \n",
            "Serbia                             NaN    1.0    NaN     NaN      NaN   \n",
            "South Africa                       1.0    NaN    1.0     NaN      NaN   \n",
            "South Korea                        1.0    6.0    8.0     NaN      NaN   \n",
            "Soviet Union                       1.0    NaN    1.0     NaN      NaN   \n",
            "Spain                             11.0    3.0   20.0     NaN      NaN   \n",
            "Sweden                             8.0    5.0    6.0     NaN      NaN   \n",
            "Switzerland                        5.0    1.0    2.0     NaN      NaN   \n",
            "Taiwan                             2.0    1.0    3.0     NaN      NaN   \n",
            "Thailand                           NaN    NaN    2.0     NaN      NaN   \n",
            "Turkey                             NaN    1.0    2.0     NaN      NaN   \n",
            "United Arab Emirates               NaN    NaN    2.0     NaN      NaN   \n",
            "United Kingdom                   191.0   55.0  205.0     1.0      1.0   \n",
            "United States                   1803.0  380.0  902.0     9.0     34.0   \n",
            "Vietnam                            NaN    NaN    1.0     NaN      NaN   \n",
            "West Germany                       2.0    3.0    4.0     NaN      NaN   \n",
            "Yugoslavia                         2.0    NaN    2.0     NaN      NaN   \n",
            "\n",
            "genre                           History  Horror  Music  Musical  Mystery  \\\n",
            "country                                                                    \n",
            "Argentina                           NaN     NaN    NaN      NaN      NaN   \n",
            "Aruba                               NaN     NaN    NaN      NaN      NaN   \n",
            "Australia                           NaN     5.0    NaN      NaN      NaN   \n",
            "Austria                             NaN     1.0    NaN      NaN      NaN   \n",
            "Belgium                             NaN     NaN    NaN      NaN      1.0   \n",
            "Brazil                              NaN     NaN    NaN      NaN      NaN   \n",
            "Canada                              1.0    23.0    NaN      NaN      NaN   \n",
            "Chile                               NaN     NaN    NaN      NaN      NaN   \n",
            "China                               NaN     NaN    NaN      NaN      NaN   \n",
            "Colombia                            NaN     NaN    NaN      NaN      NaN   \n",
            "Czech Republic                      NaN     NaN    NaN      NaN      NaN   \n",
            "Denmark                             NaN     NaN    NaN      NaN      NaN   \n",
            "Federal Republic of Yugoslavia      NaN     NaN    NaN      NaN      NaN   \n",
            "Finland                             NaN     NaN    NaN      NaN      NaN   \n",
            "France                              NaN     3.0    1.0      NaN      2.0   \n",
            "Germany                             NaN     NaN    NaN      NaN      NaN   \n",
            "Greece                              NaN     NaN    NaN      NaN      NaN   \n",
            "Hong Kong                           NaN     1.0    NaN      NaN      NaN   \n",
            "Hungary                             NaN     NaN    NaN      NaN      NaN   \n",
            "Iceland                             NaN     NaN    NaN      NaN      NaN   \n",
            "India                               NaN     NaN    NaN      NaN      1.0   \n",
            "Indonesia                           NaN     NaN    NaN      NaN      NaN   \n",
            "Iran                                NaN     NaN    NaN      NaN      NaN   \n",
            "Ireland                             NaN     NaN    NaN      NaN      NaN   \n",
            "Israel                              NaN     NaN    NaN      NaN      NaN   \n",
            "Italy                               NaN     3.0    NaN      NaN      NaN   \n",
            "Jamaica                             NaN     NaN    NaN      NaN      NaN   \n",
            "Japan                               NaN     3.0    NaN      NaN      NaN   \n",
            "Kenya                               NaN     NaN    NaN      NaN      NaN   \n",
            "Lebanon                             NaN     NaN    NaN      NaN      NaN   \n",
            "Libya                               NaN     NaN    NaN      NaN      NaN   \n",
            "Malta                               NaN     NaN    NaN      NaN      NaN   \n",
            "Mexico                              NaN     2.0    NaN      NaN      NaN   \n",
            "Netherlands                         NaN     2.0    NaN      NaN      NaN   \n",
            "New Zealand                         NaN     NaN    NaN      NaN      NaN   \n",
            "Norway                              NaN     NaN    NaN      NaN      NaN   \n",
            "Panama                              NaN     NaN    NaN      NaN      NaN   \n",
            "Philippines                         NaN     NaN    NaN      NaN      NaN   \n",
            "Poland                              NaN     NaN    NaN      NaN      NaN   \n",
            "Portugal                            NaN     NaN    NaN      NaN      NaN   \n",
            "Republic of Macedonia               NaN     NaN    NaN      NaN      NaN   \n",
            "Romania                             NaN     NaN    NaN      NaN      NaN   \n",
            "Russia                              NaN     NaN    NaN      NaN      NaN   \n",
            "Serbia                              NaN     NaN    NaN      NaN      NaN   \n",
            "South Africa                        NaN     2.0    NaN      NaN      NaN   \n",
            "South Korea                         NaN     NaN    NaN      NaN      NaN   \n",
            "Soviet Union                        NaN     NaN    NaN      NaN      NaN   \n",
            "Spain                               NaN     6.0    NaN      NaN      NaN   \n",
            "Sweden                              NaN     NaN    NaN      NaN      NaN   \n",
            "Switzerland                         NaN     NaN    NaN      NaN      NaN   \n",
            "Taiwan                              NaN     NaN    NaN      NaN      NaN   \n",
            "Thailand                            NaN     NaN    NaN      NaN      NaN   \n",
            "Turkey                              NaN     NaN    NaN      NaN      NaN   \n",
            "United Arab Emirates                NaN     NaN    NaN      NaN      NaN   \n",
            "United Kingdom                      NaN    24.0    NaN      2.0      1.0   \n",
            "United States                       NaN   246.0    NaN      NaN     15.0   \n",
            "Vietnam                             NaN     NaN    NaN      NaN      NaN   \n",
            "West Germany                        NaN     NaN    NaN      NaN      NaN   \n",
            "Yugoslavia                          NaN     NaN    NaN      NaN      NaN   \n",
            "\n",
            "genre                           Romance  Sci-Fi  Sport  Thriller  Western  \n",
            "country                                                                    \n",
            "Argentina                           NaN     NaN    NaN       NaN      NaN  \n",
            "Aruba                               NaN     NaN    NaN       NaN      NaN  \n",
            "Australia                           NaN     NaN    NaN       NaN      NaN  \n",
            "Austria                             NaN     NaN    NaN       NaN      NaN  \n",
            "Belgium                             NaN     NaN    NaN       NaN      NaN  \n",
            "Brazil                              NaN     NaN    NaN       NaN      NaN  \n",
            "Canada                              NaN     NaN    NaN       1.0      NaN  \n",
            "Chile                               NaN     NaN    NaN       NaN      NaN  \n",
            "China                               NaN     NaN    NaN       NaN      NaN  \n",
            "Colombia                            NaN     NaN    NaN       NaN      NaN  \n",
            "Czech Republic                      NaN     NaN    NaN       NaN      NaN  \n",
            "Denmark                             NaN     NaN    NaN       NaN      NaN  \n",
            "Federal Republic of Yugoslavia      NaN     NaN    NaN       NaN      NaN  \n",
            "Finland                             NaN     NaN    NaN       NaN      NaN  \n",
            "France                              2.0     NaN    NaN       2.0      NaN  \n",
            "Germany                             1.0     NaN    NaN       NaN      NaN  \n",
            "Greece                              NaN     NaN    NaN       NaN      NaN  \n",
            "Hong Kong                           NaN     NaN    NaN       NaN      NaN  \n",
            "Hungary                             NaN     NaN    NaN       NaN      NaN  \n",
            "Iceland                             NaN     NaN    NaN       NaN      NaN  \n",
            "India                               NaN     NaN    NaN       NaN      NaN  \n",
            "Indonesia                           NaN     NaN    NaN       NaN      NaN  \n",
            "Iran                                NaN     NaN    NaN       NaN      NaN  \n",
            "Ireland                             NaN     NaN    NaN       NaN      NaN  \n",
            "Israel                              NaN     NaN    NaN       NaN      NaN  \n",
            "Italy                               NaN     NaN    NaN       NaN      1.0  \n",
            "Jamaica                             NaN     NaN    NaN       NaN      NaN  \n",
            "Japan                               NaN     NaN    NaN       NaN      NaN  \n",
            "Kenya                               NaN     NaN    NaN       NaN      NaN  \n",
            "Lebanon                             NaN     NaN    NaN       NaN      NaN  \n",
            "Libya                               NaN     NaN    NaN       NaN      NaN  \n",
            "Malta                               NaN     NaN    NaN       NaN      NaN  \n",
            "Mexico                              NaN     NaN    NaN       NaN      NaN  \n",
            "Netherlands                         NaN     NaN    NaN       NaN      NaN  \n",
            "New Zealand                         NaN     NaN    NaN       NaN      NaN  \n",
            "Norway                              NaN     NaN    NaN       NaN      NaN  \n",
            "Panama                              NaN     NaN    NaN       NaN      NaN  \n",
            "Philippines                         NaN     NaN    NaN       NaN      NaN  \n",
            "Poland                              NaN     NaN    NaN       NaN      NaN  \n",
            "Portugal                            NaN     NaN    NaN       NaN      NaN  \n",
            "Republic of Macedonia               NaN     NaN    NaN       NaN      NaN  \n",
            "Romania                             NaN     NaN    NaN       NaN      NaN  \n",
            "Russia                              NaN     NaN    NaN       NaN      NaN  \n",
            "Serbia                              NaN     NaN    NaN       NaN      NaN  \n",
            "South Africa                        NaN     NaN    NaN       NaN      NaN  \n",
            "South Korea                         NaN     NaN    NaN       NaN      NaN  \n",
            "Soviet Union                        NaN     NaN    NaN       NaN      NaN  \n",
            "Spain                               NaN     NaN    NaN       NaN      NaN  \n",
            "Sweden                              NaN     NaN    NaN       NaN      NaN  \n",
            "Switzerland                         NaN     NaN    NaN       NaN      NaN  \n",
            "Taiwan                              NaN     NaN    NaN       NaN      NaN  \n",
            "Thailand                            NaN     NaN    NaN       NaN      NaN  \n",
            "Turkey                              NaN     NaN    NaN       NaN      NaN  \n",
            "United Arab Emirates                NaN     NaN    NaN       NaN      NaN  \n",
            "United Kingdom                      4.0     2.0    NaN       3.0      1.0  \n",
            "United States                       3.0     7.0    1.0      10.0      1.0  \n",
            "Vietnam                             NaN     NaN    NaN       NaN      NaN  \n",
            "West Germany                        NaN     1.0    NaN       NaN      NaN  \n",
            "Yugoslavia                          NaN     NaN    NaN       NaN      NaN  \n"
          ]
        }
      ]
    },
    {
      "cell_type": "markdown",
      "source": [
        "**Operatiosn on Matplotlib**"
      ],
      "metadata": {
        "id": "DUJvawFBLNY3"
      }
    },
    {
      "cell_type": "code",
      "source": [
        "import matplotlib.pyplot as plt\n"
      ],
      "metadata": {
        "id": "5tuTK4-qLQrv"
      },
      "execution_count": null,
      "outputs": []
    },
    {
      "cell_type": "code",
      "source": [
        "# Group countries with low count into 'Other'\n",
        "threshold = 100  # Adjust threshold based on your dataset's distribution\n",
        "other = df['country'].value_counts()[df['country'].value_counts() < threshold]\n",
        "df['country'] = df['country'].replace(other.index, 'Other')\n",
        "\n",
        "# Recalculate the country counts\n",
        "country_counts = df['country'].value_counts()\n",
        "\n",
        "plt.figure(figsize=(6, 6))\n",
        "plt.pie(country_counts, labels=country_counts.index, autopct='%1.1f%%', startangle=140)\n",
        "plt.title('Country-wise Movie Distribution (Grouped \"Other\")')\n",
        "plt.axis('equal')\n",
        "plt.show()\n"
      ],
      "metadata": {
        "colab": {
          "base_uri": "https://localhost:8080/",
          "height": 529
        },
        "id": "n_SC9Tj6LZpy",
        "outputId": "6e7fdd82-5eb8-45af-8869-6e92c21891e5"
      },
      "execution_count": null,
      "outputs": [
        {
          "output_type": "display_data",
          "data": {
            "text/plain": [
              "<Figure size 600x600 with 1 Axes>"
            ],
            "image/png": "[encoded data removed]"
          },
          "metadata": {}
        }
      ]
    },
    {
      "cell_type": "code",
      "source": [
        "# Extract release date and convert it to datetime\n",
        "df['release_date'] = pd.to_datetime(df['released'].str.extract(r'(\\w+\\s\\d{1,2},\\s\\d{4})')[0], format='%B %d, %Y')\n",
        "\n",
        "# Group by the release date\n",
        "daily_orders = df.groupby('release_date').size()\n",
        "\n",
        "plt.figure(figsize=(10, 4))\n",
        "daily_orders.plot(kind='line', marker='o', linestyle='-')\n",
        "plt.title('Movies Released Over Time')\n",
        "plt.xlabel('Release Date')\n",
        "plt.ylabel('Number of Movies Released')\n",
        "plt.grid(True)\n",
        "\n",
        "# Rotate x-axis labels for better readability\n",
        "plt.xticks(rotation=45)\n",
        "\n",
        "plt.tight_layout()\n",
        "plt.show()\n"
      ],
      "metadata": {
        "colab": {
          "base_uri": "https://localhost:8080/",
          "height": 355
        },
        "id": "PW7DAvQvLb7C",
        "outputId": "84316d41-156f-43c0-fc08-d8a12652d90b"
      },
      "execution_count": null,
      "outputs": [
        {
          "output_type": "display_data",
          "data": {
            "text/plain": [
              "<Figure size 1000x400 with 1 Axes>"
            ],
            "image/png": "[encoded data removed]"
          },
          "metadata": {}
        }
      ]
    },
    {
      "cell_type": "code",
      "source": [
        "city_counts = df['country'].value_counts()\n",
        "\n",
        "plt.figure(figsize=(10, 6))\n",
        "plt.bar(city_counts.index, city_counts.values)\n",
        "plt.title('Orders by Country')\n",
        "plt.xlabel('Country')\n",
        "plt.ylabel('Count')\n",
        "plt.xticks(rotation=45)  # Rotate country names for better readability\n",
        "plt.tight_layout()\n",
        "plt.show()\n"
      ],
      "metadata": {
        "colab": {
          "base_uri": "https://localhost:8080/",
          "height": 529
        },
        "id": "VeKESGUaL3Ko",
        "outputId": "f52dd051-060a-4c02-a05a-a02ec105ee5b"
      },
      "execution_count": null,
      "outputs": [
        {
          "output_type": "display_data",
          "data": {
            "text/plain": [
              "<Figure size 1000x600 with 1 Axes>"
            ],
            "image/png": "[encoded data removed]"
          },
          "metadata": {}
        }
      ]
    },
    {
      "cell_type": "code",
      "source": [
        "import matplotlib.pyplot as plt\n",
        "import pandas as pd\n",
        "\n",
        "# Group by genre and calculate the average rating\n",
        "avg_rating_by_genre = df.groupby('genre')['score'].mean()\n",
        "\n",
        "# Sort by rating\n",
        "avg_rating_by_genre = avg_rating_by_genre.sort_values(ascending=False)\n",
        "\n",
        "# Plot the average rating by genre\n",
        "plt.figure(figsize=(10, 6))\n",
        "avg_rating_by_genre.plot(kind='bar', color='skyblue')\n",
        "plt.title('Average Movie Rating by Genre')\n",
        "plt.xlabel('Genre')\n",
        "plt.ylabel('Average Rating')\n",
        "plt.xticks(rotation=45, ha='right')\n",
        "plt.tight_layout()\n",
        "plt.show()\n"
      ],
      "metadata": {
        "colab": {
          "base_uri": "https://localhost:8080/",
          "height": 529
        },
        "id": "Sze-jXeNMJ26",
        "outputId": "8db341d8-6b17-45bd-fcd0-c3a554e4b6ea"
      },
      "execution_count": null,
      "outputs": [
        {
          "output_type": "display_data",
          "data": {
            "text/plain": [
              "<Figure size 1000x600 with 1 Axes>"
            ],
            "image/png": "[encoded data removed]"
          },
          "metadata": {}
        }
      ]
    }
  ]
}